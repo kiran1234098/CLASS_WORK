{
  "cells": [
    {
      "cell_type": "markdown",
      "metadata": {
        "id": "view-in-github",
        "colab_type": "text"
      },
      "source": [
        "<a href=\"https://colab.research.google.com/github/kiran1234098/CLASS_WORK/blob/master/PythonAssignment.ipynb\" target=\"_parent\"><img src=\"https://colab.research.google.com/assets/colab-badge.svg\" alt=\"Open In Colab\"/></a>"
      ]
    },
    {
      "cell_type": "markdown",
      "metadata": {
        "id": "kxgNdKPbxnTj"
      },
      "source": [
        "Question 1: -\n",
        "Write a program that takes a string as input, and counts the frequency of each word in the string, there might\n",
        "be repeated characters in the string. Your task is to find the highest frequency and returns the length of the\n",
        "highest-frequency word.\n",
        "\n",
        "Note - You have to write at least 2 additional test cases in which your program will run successfully and provide\n",
        "an explanation for the same.\n",
        "Example input - string = “write write write all the number from from from 1 to 100”\n",
        "Example output - 5\n",
        "Explanation - From the given string we can note that the most frequent words are “write” and “from” and\n",
        "the maximum value of both the values is “write” and its corresponding length is 5"
      ]
    },
    {
      "cell_type": "code",
      "execution_count": null,
      "metadata": {
        "colab": {
          "background_save": true,
          "base_uri": "https://localhost:8080/"
        },
        "id": "JHEkrd-mZW-H",
        "outputId": "497c8ff9-3363-4674-dd4d-eecaa1d67e14"
      },
      "outputs": [
        {
          "name": "stdout",
          "output_type": "stream",
          "text": [
            "{'write': 3, 'all': 1, 'the': 1, 'number': 1, 'from': 3, '1': 1, 'to': 1, '100': 1}\n",
            "5\n"
          ]
        }
      ],
      "source": [
        "def count_word_frequency(list_of_words):\n",
        "    dictionary_of_word_counts = {}\n",
        "\n",
        "    for word in list_of_words:\n",
        "        if word in dictionary_of_word_counts:\n",
        "            dictionary_of_word_counts[word] += 1\n",
        "        else:\n",
        "            dictionary_of_word_counts[word] = 1\n",
        "\n",
        "    return dictionary_of_word_counts\n",
        "\n",
        "\n",
        "\n",
        "def highest_frequency_word_length(word_frequency):\n",
        "    highest_frequency = 0\n",
        "    highest_frequency_word = \"\"\n",
        "\n",
        "    for word, count in word_frequency.items():\n",
        "        if count > highest_frequency:\n",
        "            highest_frequency = count\n",
        "            highest_frequency_word = word\n",
        "\n",
        "    return len(highest_frequency_word)\n",
        "\n",
        "given_string = input(\"enter a string\")\n",
        "covert_string_to_list = given_string.split()\n",
        "\n",
        "word_frequency = count_word_frequency(word_list)\n",
        "print(word_frequency)"
      ]
    }
  ],
  "metadata": {
    "colab": {
      "provenance": [],
      "authorship_tag": "ABX9TyPRYBcc8gwmECNA1guxN+7L",
      "include_colab_link": true
    },
    "kernelspec": {
      "display_name": "Python 3",
      "name": "python3"
    },
    "language_info": {
      "name": "python"
    }
  },
  "nbformat": 4,
  "nbformat_minor": 0
}