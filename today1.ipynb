{
  "nbformat": 4,
  "nbformat_minor": 0,
  "metadata": {
    "colab": {
      "provenance": [],
      "authorship_tag": "ABX9TyPdFn0KoGzJYXOi/g55VbS3",
      "include_colab_link": true
    },
    "kernelspec": {
      "name": "python3",
      "display_name": "Python 3"
    },
    "language_info": {
      "name": "python"
    }
  },
  "cells": [
    {
      "cell_type": "markdown",
      "metadata": {
        "id": "view-in-github",
        "colab_type": "text"
      },
      "source": [
        "<a href=\"https://colab.research.google.com/github/kiran1234098/CLASS_WORK/blob/master/today1.ipynb\" target=\"_parent\"><img src=\"https://colab.research.google.com/assets/colab-badge.svg\" alt=\"Open In Colab\"/></a>"
      ]
    },
    {
      "cell_type": "code",
      "execution_count": 2,
      "metadata": {
        "colab": {
          "base_uri": "https://localhost:8080/"
        },
        "id": "nhduLstqduJ-",
        "outputId": "9822ff0c-fa71-4d04-f8e8-9434a04dc2a8"
      },
      "outputs": [
        {
          "output_type": "stream",
          "name": "stdout",
          "text": [
            "normAL\n",
            "i am one normAL\n",
            "i am two NORMAL\n"
          ]
        }
      ],
      "source": [
        "class Dog:\n",
        "  att1= \"normAL\"\n",
        "  ATT2 = \"NORMAL\"\n",
        "\n",
        "  def fun(self):\n",
        "    print(\"i am one\",self.att1)\n",
        "    print(\"i am two\",self.ATT2)\n",
        "\n",
        "\n",
        "ins = Dog()\n",
        "\n",
        "print(ins.att1)\n",
        "ins.fun()\n"
      ]
    },
    {
      "cell_type": "code",
      "source": [
        "class Person :\n",
        "  def __init__(self,name):\n",
        "    self.name = name\n",
        "\n",
        "  def say_hi(self):\n",
        "      print(\"hello my name is\",self.name )\n",
        "\n",
        "p = Person(\"name\")\n",
        "p.say_hi()"
      ],
      "metadata": {
        "colab": {
          "base_uri": "https://localhost:8080/"
        },
        "id": "dqWmTOHEe9wh",
        "outputId": "25342216-cde2-4a6b-beb2-ad1c069d0209"
      },
      "execution_count": 6,
      "outputs": [
        {
          "output_type": "stream",
          "name": "stdout",
          "text": [
            "hello my name is name\n"
          ]
        }
      ]
    },
    {
      "cell_type": "code",
      "source": [
        "class Dog:\n",
        "  animal = 'dog'\n",
        "\n",
        "  def __init__(self,bread):\n",
        "    self.bread= bread\n",
        "\n",
        "  def setcolor(self,color):\n",
        "    self.color=color\n",
        "  def getcolor(self):\n",
        "    return self.color\n",
        "\n",
        "inse= Dog(\"pug\")\n",
        "inse.setcolor(\"blue\")\n",
        "print(inse.getcolor)      "
      ],
      "metadata": {
        "colab": {
          "base_uri": "https://localhost:8080/"
        },
        "id": "EZbjRvlXhBqN",
        "outputId": "9a397727-99b5-4d9d-9c36-0c570a3adc69"
      },
      "execution_count": 7,
      "outputs": [
        {
          "output_type": "stream",
          "name": "stdout",
          "text": [
            "<bound method Dog.getcolor of <__main__.Dog object at 0x7f0ce5d21e20>>\n"
          ]
        }
      ]
    },
    {
      "cell_type": "code",
      "source": [
        "class Dog:\n",
        " \n",
        "    # Class Variable\n",
        "    animal = 'dog'\n",
        " \n",
        "    # The init method or constructor\n",
        "    def __init__(self, breed):\n",
        " \n",
        "        # Instance Variable\n",
        "        self.breed = breed\n",
        " \n",
        "    # Adds an instance variable\n",
        "    def setColor(self, color):\n",
        "        self.color = color\n",
        " \n",
        "    # Retrieves instance variable\n",
        "    def getColor(self):\n",
        "        return self.color\n",
        " \n",
        " \n",
        "# Driver Code\n",
        "Rodger = Dog(\"pug\")\n",
        "Rodger.setColor(\"brown\")\n",
        "print(Rodger.getColor())\n"
      ],
      "metadata": {
        "colab": {
          "base_uri": "https://localhost:8080/"
        },
        "id": "rZ17WCXVjmAd",
        "outputId": "aa183799-69e6-4d0c-af7b-87b12944400a"
      },
      "execution_count": 8,
      "outputs": [
        {
          "output_type": "stream",
          "name": "stdout",
          "text": [
            "brown\n"
          ]
        }
      ]
    }
  ]
}