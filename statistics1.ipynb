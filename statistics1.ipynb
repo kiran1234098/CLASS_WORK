{
  "nbformat": 4,
  "nbformat_minor": 0,
  "metadata": {
    "colab": {
      "provenance": [],
      "authorship_tag": "ABX9TyNUZpH8jzJY4XvFmWUkwUFX",
      "include_colab_link": true
    },
    "kernelspec": {
      "name": "python3",
      "display_name": "Python 3"
    },
    "language_info": {
      "name": "python"
    },
    "widgets": {
      "application/vnd.jupyter.widget-state+json": {
        "c4271006b5bd47ee8ccf8b0366af65f4": {
          "model_module": "@jupyter-widgets/controls",
          "model_name": "HBoxModel",
          "model_module_version": "1.5.0",
          "state": {
            "_dom_classes": [],
            "_model_module": "@jupyter-widgets/controls",
            "_model_module_version": "1.5.0",
            "_model_name": "HBoxModel",
            "_view_count": null,
            "_view_module": "@jupyter-widgets/controls",
            "_view_module_version": "1.5.0",
            "_view_name": "HBoxView",
            "box_style": "",
            "children": [
              "IPY_MODEL_cbb54e0b6fcc4c4aa8b6885fabba494e",
              "IPY_MODEL_05107a6421844485bc01ed9d558f23d7",
              "IPY_MODEL_04269085accc44999364e07af9e941eb"
            ],
            "layout": "IPY_MODEL_1b89f6f7a26c4625a602fb619b6dfc07"
          }
        },
        "cbb54e0b6fcc4c4aa8b6885fabba494e": {
          "model_module": "@jupyter-widgets/controls",
          "model_name": "HTMLModel",
          "model_module_version": "1.5.0",
          "state": {
            "_dom_classes": [],
            "_model_module": "@jupyter-widgets/controls",
            "_model_module_version": "1.5.0",
            "_model_name": "HTMLModel",
            "_view_count": null,
            "_view_module": "@jupyter-widgets/controls",
            "_view_module_version": "1.5.0",
            "_view_name": "HTMLView",
            "description": "",
            "description_tooltip": null,
            "layout": "IPY_MODEL_2889d3534aa64293a4adc616d7693cd0",
            "placeholder": "​",
            "style": "IPY_MODEL_87bb0d08c9ac48e6b938590ebe4b9807",
            "value": "Summarize dataset: 100%"
          }
        },
        "05107a6421844485bc01ed9d558f23d7": {
          "model_module": "@jupyter-widgets/controls",
          "model_name": "FloatProgressModel",
          "model_module_version": "1.5.0",
          "state": {
            "_dom_classes": [],
            "_model_module": "@jupyter-widgets/controls",
            "_model_module_version": "1.5.0",
            "_model_name": "FloatProgressModel",
            "_view_count": null,
            "_view_module": "@jupyter-widgets/controls",
            "_view_module_version": "1.5.0",
            "_view_name": "ProgressView",
            "bar_style": "success",
            "description": "",
            "description_tooltip": null,
            "layout": "IPY_MODEL_bce6ee6e46ef4c1591eb8462ceb68e84",
            "max": 5,
            "min": 0,
            "orientation": "horizontal",
            "style": "IPY_MODEL_44dc13b982a94bf3a65e7bed8c585fb5",
            "value": 5
          }
        },
        "04269085accc44999364e07af9e941eb": {
          "model_module": "@jupyter-widgets/controls",
          "model_name": "HTMLModel",
          "model_module_version": "1.5.0",
          "state": {
            "_dom_classes": [],
            "_model_module": "@jupyter-widgets/controls",
            "_model_module_version": "1.5.0",
            "_model_name": "HTMLModel",
            "_view_count": null,
            "_view_module": "@jupyter-widgets/controls",
            "_view_module_version": "1.5.0",
            "_view_name": "HTMLView",
            "description": "",
            "description_tooltip": null,
            "layout": "IPY_MODEL_096b352847b2417a94d6066589a7c32e",
            "placeholder": "​",
            "style": "IPY_MODEL_258e9a1cff97434b84f4fd0443fcd54b",
            "value": " 52/52 [00:11&lt;00:00,  3.31it/s, Completed]"
          }
        },
        "1b89f6f7a26c4625a602fb619b6dfc07": {
          "model_module": "@jupyter-widgets/base",
          "model_name": "LayoutModel",
          "model_module_version": "1.2.0",
          "state": {
            "_model_module": "@jupyter-widgets/base",
            "_model_module_version": "1.2.0",
            "_model_name": "LayoutModel",
            "_view_count": null,
            "_view_module": "@jupyter-widgets/base",
            "_view_module_version": "1.2.0",
            "_view_name": "LayoutView",
            "align_content": null,
            "align_items": null,
            "align_self": null,
            "border": null,
            "bottom": null,
            "display": null,
            "flex": null,
            "flex_flow": null,
            "grid_area": null,
            "grid_auto_columns": null,
            "grid_auto_flow": null,
            "grid_auto_rows": null,
            "grid_column": null,
            "grid_gap": null,
            "grid_row": null,
            "grid_template_areas": null,
            "grid_template_columns": null,
            "grid_template_rows": null,
            "height": null,
            "justify_content": null,
            "justify_items": null,
            "left": null,
            "margin": null,
            "max_height": null,
            "max_width": null,
            "min_height": null,
            "min_width": null,
            "object_fit": null,
            "object_position": null,
            "order": null,
            "overflow": null,
            "overflow_x": null,
            "overflow_y": null,
            "padding": null,
            "right": null,
            "top": null,
            "visibility": null,
            "width": null
          }
        },
        "2889d3534aa64293a4adc616d7693cd0": {
          "model_module": "@jupyter-widgets/base",
          "model_name": "LayoutModel",
          "model_module_version": "1.2.0",
          "state": {
            "_model_module": "@jupyter-widgets/base",
            "_model_module_version": "1.2.0",
            "_model_name": "LayoutModel",
            "_view_count": null,
            "_view_module": "@jupyter-widgets/base",
            "_view_module_version": "1.2.0",
            "_view_name": "LayoutView",
            "align_content": null,
            "align_items": null,
            "align_self": null,
            "border": null,
            "bottom": null,
            "display": null,
            "flex": null,
            "flex_flow": null,
            "grid_area": null,
            "grid_auto_columns": null,
            "grid_auto_flow": null,
            "grid_auto_rows": null,
            "grid_column": null,
            "grid_gap": null,
            "grid_row": null,
            "grid_template_areas": null,
            "grid_template_columns": null,
            "grid_template_rows": null,
            "height": null,
            "justify_content": null,
            "justify_items": null,
            "left": null,
            "margin": null,
            "max_height": null,
            "max_width": null,
            "min_height": null,
            "min_width": null,
            "object_fit": null,
            "object_position": null,
            "order": null,
            "overflow": null,
            "overflow_x": null,
            "overflow_y": null,
            "padding": null,
            "right": null,
            "top": null,
            "visibility": null,
            "width": null
          }
        },
        "87bb0d08c9ac48e6b938590ebe4b9807": {
          "model_module": "@jupyter-widgets/controls",
          "model_name": "DescriptionStyleModel",
          "model_module_version": "1.5.0",
          "state": {
            "_model_module": "@jupyter-widgets/controls",
            "_model_module_version": "1.5.0",
            "_model_name": "DescriptionStyleModel",
            "_view_count": null,
            "_view_module": "@jupyter-widgets/base",
            "_view_module_version": "1.2.0",
            "_view_name": "StyleView",
            "description_width": ""
          }
        },
        "bce6ee6e46ef4c1591eb8462ceb68e84": {
          "model_module": "@jupyter-widgets/base",
          "model_name": "LayoutModel",
          "model_module_version": "1.2.0",
          "state": {
            "_model_module": "@jupyter-widgets/base",
            "_model_module_version": "1.2.0",
            "_model_name": "LayoutModel",
            "_view_count": null,
            "_view_module": "@jupyter-widgets/base",
            "_view_module_version": "1.2.0",
            "_view_name": "LayoutView",
            "align_content": null,
            "align_items": null,
            "align_self": null,
            "border": null,
            "bottom": null,
            "display": null,
            "flex": null,
            "flex_flow": null,
            "grid_area": null,
            "grid_auto_columns": null,
            "grid_auto_flow": null,
            "grid_auto_rows": null,
            "grid_column": null,
            "grid_gap": null,
            "grid_row": null,
            "grid_template_areas": null,
            "grid_template_columns": null,
            "grid_template_rows": null,
            "height": null,
            "justify_content": null,
            "justify_items": null,
            "left": null,
            "margin": null,
            "max_height": null,
            "max_width": null,
            "min_height": null,
            "min_width": null,
            "object_fit": null,
            "object_position": null,
            "order": null,
            "overflow": null,
            "overflow_x": null,
            "overflow_y": null,
            "padding": null,
            "right": null,
            "top": null,
            "visibility": null,
            "width": null
          }
        },
        "44dc13b982a94bf3a65e7bed8c585fb5": {
          "model_module": "@jupyter-widgets/controls",
          "model_name": "ProgressStyleModel",
          "model_module_version": "1.5.0",
          "state": {
            "_model_module": "@jupyter-widgets/controls",
            "_model_module_version": "1.5.0",
            "_model_name": "ProgressStyleModel",
            "_view_count": null,
            "_view_module": "@jupyter-widgets/base",
            "_view_module_version": "1.2.0",
            "_view_name": "StyleView",
            "bar_color": null,
            "description_width": ""
          }
        },
        "096b352847b2417a94d6066589a7c32e": {
          "model_module": "@jupyter-widgets/base",
          "model_name": "LayoutModel",
          "model_module_version": "1.2.0",
          "state": {
            "_model_module": "@jupyter-widgets/base",
            "_model_module_version": "1.2.0",
            "_model_name": "LayoutModel",
            "_view_count": null,
            "_view_module": "@jupyter-widgets/base",
            "_view_module_version": "1.2.0",
            "_view_name": "LayoutView",
            "align_content": null,
            "align_items": null,
            "align_self": null,
            "border": null,
            "bottom": null,
            "display": null,
            "flex": null,
            "flex_flow": null,
            "grid_area": null,
            "grid_auto_columns": null,
            "grid_auto_flow": null,
            "grid_auto_rows": null,
            "grid_column": null,
            "grid_gap": null,
            "grid_row": null,
            "grid_template_areas": null,
            "grid_template_columns": null,
            "grid_template_rows": null,
            "height": null,
            "justify_content": null,
            "justify_items": null,
            "left": null,
            "margin": null,
            "max_height": null,
            "max_width": null,
            "min_height": null,
            "min_width": null,
            "object_fit": null,
            "object_position": null,
            "order": null,
            "overflow": null,
            "overflow_x": null,
            "overflow_y": null,
            "padding": null,
            "right": null,
            "top": null,
            "visibility": null,
            "width": null
          }
        },
        "258e9a1cff97434b84f4fd0443fcd54b": {
          "model_module": "@jupyter-widgets/controls",
          "model_name": "DescriptionStyleModel",
          "model_module_version": "1.5.0",
          "state": {
            "_model_module": "@jupyter-widgets/controls",
            "_model_module_version": "1.5.0",
            "_model_name": "DescriptionStyleModel",
            "_view_count": null,
            "_view_module": "@jupyter-widgets/base",
            "_view_module_version": "1.2.0",
            "_view_name": "StyleView",
            "description_width": ""
          }
        },
        "7a49c3f466004ef39f220be519f18cdb": {
          "model_module": "@jupyter-widgets/controls",
          "model_name": "HBoxModel",
          "model_module_version": "1.5.0",
          "state": {
            "_dom_classes": [],
            "_model_module": "@jupyter-widgets/controls",
            "_model_module_version": "1.5.0",
            "_model_name": "HBoxModel",
            "_view_count": null,
            "_view_module": "@jupyter-widgets/controls",
            "_view_module_version": "1.5.0",
            "_view_name": "HBoxView",
            "box_style": "",
            "children": [
              "IPY_MODEL_bbfdcd3da7c3406390ea0ba1de1e0474",
              "IPY_MODEL_af1ed5b0d6744e349ddde99165547f8e",
              "IPY_MODEL_0c0e2b628b81413c90cb9d5b53cc3904"
            ],
            "layout": "IPY_MODEL_0a2ca2fafc9b4624995fdb1745848b35"
          }
        },
        "bbfdcd3da7c3406390ea0ba1de1e0474": {
          "model_module": "@jupyter-widgets/controls",
          "model_name": "HTMLModel",
          "model_module_version": "1.5.0",
          "state": {
            "_dom_classes": [],
            "_model_module": "@jupyter-widgets/controls",
            "_model_module_version": "1.5.0",
            "_model_name": "HTMLModel",
            "_view_count": null,
            "_view_module": "@jupyter-widgets/controls",
            "_view_module_version": "1.5.0",
            "_view_name": "HTMLView",
            "description": "",
            "description_tooltip": null,
            "layout": "IPY_MODEL_41ad96b0989746d5a971365325237696",
            "placeholder": "​",
            "style": "IPY_MODEL_1666bf5a8f1c4c1a97668973fd66beed",
            "value": "Generate report structure: 100%"
          }
        },
        "af1ed5b0d6744e349ddde99165547f8e": {
          "model_module": "@jupyter-widgets/controls",
          "model_name": "FloatProgressModel",
          "model_module_version": "1.5.0",
          "state": {
            "_dom_classes": [],
            "_model_module": "@jupyter-widgets/controls",
            "_model_module_version": "1.5.0",
            "_model_name": "FloatProgressModel",
            "_view_count": null,
            "_view_module": "@jupyter-widgets/controls",
            "_view_module_version": "1.5.0",
            "_view_name": "ProgressView",
            "bar_style": "success",
            "description": "",
            "description_tooltip": null,
            "layout": "IPY_MODEL_e3d08f87d0db4694aa61971fddcfa3b0",
            "max": 1,
            "min": 0,
            "orientation": "horizontal",
            "style": "IPY_MODEL_57c71034b76744d28b481fb2fd954c2b",
            "value": 1
          }
        },
        "0c0e2b628b81413c90cb9d5b53cc3904": {
          "model_module": "@jupyter-widgets/controls",
          "model_name": "HTMLModel",
          "model_module_version": "1.5.0",
          "state": {
            "_dom_classes": [],
            "_model_module": "@jupyter-widgets/controls",
            "_model_module_version": "1.5.0",
            "_model_name": "HTMLModel",
            "_view_count": null,
            "_view_module": "@jupyter-widgets/controls",
            "_view_module_version": "1.5.0",
            "_view_name": "HTMLView",
            "description": "",
            "description_tooltip": null,
            "layout": "IPY_MODEL_388310e5cdaa47adbc8ec83e83632282",
            "placeholder": "​",
            "style": "IPY_MODEL_7a9a0358599b4d329ba8a90ca6234d1b",
            "value": " 1/1 [00:06&lt;00:00,  6.73s/it]"
          }
        },
        "0a2ca2fafc9b4624995fdb1745848b35": {
          "model_module": "@jupyter-widgets/base",
          "model_name": "LayoutModel",
          "model_module_version": "1.2.0",
          "state": {
            "_model_module": "@jupyter-widgets/base",
            "_model_module_version": "1.2.0",
            "_model_name": "LayoutModel",
            "_view_count": null,
            "_view_module": "@jupyter-widgets/base",
            "_view_module_version": "1.2.0",
            "_view_name": "LayoutView",
            "align_content": null,
            "align_items": null,
            "align_self": null,
            "border": null,
            "bottom": null,
            "display": null,
            "flex": null,
            "flex_flow": null,
            "grid_area": null,
            "grid_auto_columns": null,
            "grid_auto_flow": null,
            "grid_auto_rows": null,
            "grid_column": null,
            "grid_gap": null,
            "grid_row": null,
            "grid_template_areas": null,
            "grid_template_columns": null,
            "grid_template_rows": null,
            "height": null,
            "justify_content": null,
            "justify_items": null,
            "left": null,
            "margin": null,
            "max_height": null,
            "max_width": null,
            "min_height": null,
            "min_width": null,
            "object_fit": null,
            "object_position": null,
            "order": null,
            "overflow": null,
            "overflow_x": null,
            "overflow_y": null,
            "padding": null,
            "right": null,
            "top": null,
            "visibility": null,
            "width": null
          }
        },
        "41ad96b0989746d5a971365325237696": {
          "model_module": "@jupyter-widgets/base",
          "model_name": "LayoutModel",
          "model_module_version": "1.2.0",
          "state": {
            "_model_module": "@jupyter-widgets/base",
            "_model_module_version": "1.2.0",
            "_model_name": "LayoutModel",
            "_view_count": null,
            "_view_module": "@jupyter-widgets/base",
            "_view_module_version": "1.2.0",
            "_view_name": "LayoutView",
            "align_content": null,
            "align_items": null,
            "align_self": null,
            "border": null,
            "bottom": null,
            "display": null,
            "flex": null,
            "flex_flow": null,
            "grid_area": null,
            "grid_auto_columns": null,
            "grid_auto_flow": null,
            "grid_auto_rows": null,
            "grid_column": null,
            "grid_gap": null,
            "grid_row": null,
            "grid_template_areas": null,
            "grid_template_columns": null,
            "grid_template_rows": null,
            "height": null,
            "justify_content": null,
            "justify_items": null,
            "left": null,
            "margin": null,
            "max_height": null,
            "max_width": null,
            "min_height": null,
            "min_width": null,
            "object_fit": null,
            "object_position": null,
            "order": null,
            "overflow": null,
            "overflow_x": null,
            "overflow_y": null,
            "padding": null,
            "right": null,
            "top": null,
            "visibility": null,
            "width": null
          }
        },
        "1666bf5a8f1c4c1a97668973fd66beed": {
          "model_module": "@jupyter-widgets/controls",
          "model_name": "DescriptionStyleModel",
          "model_module_version": "1.5.0",
          "state": {
            "_model_module": "@jupyter-widgets/controls",
            "_model_module_version": "1.5.0",
            "_model_name": "DescriptionStyleModel",
            "_view_count": null,
            "_view_module": "@jupyter-widgets/base",
            "_view_module_version": "1.2.0",
            "_view_name": "StyleView",
            "description_width": ""
          }
        },
        "e3d08f87d0db4694aa61971fddcfa3b0": {
          "model_module": "@jupyter-widgets/base",
          "model_name": "LayoutModel",
          "model_module_version": "1.2.0",
          "state": {
            "_model_module": "@jupyter-widgets/base",
            "_model_module_version": "1.2.0",
            "_model_name": "LayoutModel",
            "_view_count": null,
            "_view_module": "@jupyter-widgets/base",
            "_view_module_version": "1.2.0",
            "_view_name": "LayoutView",
            "align_content": null,
            "align_items": null,
            "align_self": null,
            "border": null,
            "bottom": null,
            "display": null,
            "flex": null,
            "flex_flow": null,
            "grid_area": null,
            "grid_auto_columns": null,
            "grid_auto_flow": null,
            "grid_auto_rows": null,
            "grid_column": null,
            "grid_gap": null,
            "grid_row": null,
            "grid_template_areas": null,
            "grid_template_columns": null,
            "grid_template_rows": null,
            "height": null,
            "justify_content": null,
            "justify_items": null,
            "left": null,
            "margin": null,
            "max_height": null,
            "max_width": null,
            "min_height": null,
            "min_width": null,
            "object_fit": null,
            "object_position": null,
            "order": null,
            "overflow": null,
            "overflow_x": null,
            "overflow_y": null,
            "padding": null,
            "right": null,
            "top": null,
            "visibility": null,
            "width": null
          }
        },
        "57c71034b76744d28b481fb2fd954c2b": {
          "model_module": "@jupyter-widgets/controls",
          "model_name": "ProgressStyleModel",
          "model_module_version": "1.5.0",
          "state": {
            "_model_module": "@jupyter-widgets/controls",
            "_model_module_version": "1.5.0",
            "_model_name": "ProgressStyleModel",
            "_view_count": null,
            "_view_module": "@jupyter-widgets/base",
            "_view_module_version": "1.2.0",
            "_view_name": "StyleView",
            "bar_color": null,
            "description_width": ""
          }
        },
        "388310e5cdaa47adbc8ec83e83632282": {
          "model_module": "@jupyter-widgets/base",
          "model_name": "LayoutModel",
          "model_module_version": "1.2.0",
          "state": {
            "_model_module": "@jupyter-widgets/base",
            "_model_module_version": "1.2.0",
            "_model_name": "LayoutModel",
            "_view_count": null,
            "_view_module": "@jupyter-widgets/base",
            "_view_module_version": "1.2.0",
            "_view_name": "LayoutView",
            "align_content": null,
            "align_items": null,
            "align_self": null,
            "border": null,
            "bottom": null,
            "display": null,
            "flex": null,
            "flex_flow": null,
            "grid_area": null,
            "grid_auto_columns": null,
            "grid_auto_flow": null,
            "grid_auto_rows": null,
            "grid_column": null,
            "grid_gap": null,
            "grid_row": null,
            "grid_template_areas": null,
            "grid_template_columns": null,
            "grid_template_rows": null,
            "height": null,
            "justify_content": null,
            "justify_items": null,
            "left": null,
            "margin": null,
            "max_height": null,
            "max_width": null,
            "min_height": null,
            "min_width": null,
            "object_fit": null,
            "object_position": null,
            "order": null,
            "overflow": null,
            "overflow_x": null,
            "overflow_y": null,
            "padding": null,
            "right": null,
            "top": null,
            "visibility": null,
            "width": null
          }
        },
        "7a9a0358599b4d329ba8a90ca6234d1b": {
          "model_module": "@jupyter-widgets/controls",
          "model_name": "DescriptionStyleModel",
          "model_module_version": "1.5.0",
          "state": {
            "_model_module": "@jupyter-widgets/controls",
            "_model_module_version": "1.5.0",
            "_model_name": "DescriptionStyleModel",
            "_view_count": null,
            "_view_module": "@jupyter-widgets/base",
            "_view_module_version": "1.2.0",
            "_view_name": "StyleView",
            "description_width": ""
          }
        },
        "1c8674e83956477fadbe331b66f2f515": {
          "model_module": "@jupyter-widgets/controls",
          "model_name": "HBoxModel",
          "model_module_version": "1.5.0",
          "state": {
            "_dom_classes": [],
            "_model_module": "@jupyter-widgets/controls",
            "_model_module_version": "1.5.0",
            "_model_name": "HBoxModel",
            "_view_count": null,
            "_view_module": "@jupyter-widgets/controls",
            "_view_module_version": "1.5.0",
            "_view_name": "HBoxView",
            "box_style": "",
            "children": [
              "IPY_MODEL_e7c36453ba8241f991626bbea9d96d03",
              "IPY_MODEL_2174d968fd0a4540b20881213a66ba6c",
              "IPY_MODEL_1077517a82c74333a77dfe2b7abf51ec"
            ],
            "layout": "IPY_MODEL_34294c782f0c4d7fbb83ba7f00e73ad7"
          }
        },
        "e7c36453ba8241f991626bbea9d96d03": {
          "model_module": "@jupyter-widgets/controls",
          "model_name": "HTMLModel",
          "model_module_version": "1.5.0",
          "state": {
            "_dom_classes": [],
            "_model_module": "@jupyter-widgets/controls",
            "_model_module_version": "1.5.0",
            "_model_name": "HTMLModel",
            "_view_count": null,
            "_view_module": "@jupyter-widgets/controls",
            "_view_module_version": "1.5.0",
            "_view_name": "HTMLView",
            "description": "",
            "description_tooltip": null,
            "layout": "IPY_MODEL_e1234a42c8554b66a2d327a922598cd2",
            "placeholder": "​",
            "style": "IPY_MODEL_b80d5f5c6588453ea7981715bce424b4",
            "value": "Render HTML: 100%"
          }
        },
        "2174d968fd0a4540b20881213a66ba6c": {
          "model_module": "@jupyter-widgets/controls",
          "model_name": "FloatProgressModel",
          "model_module_version": "1.5.0",
          "state": {
            "_dom_classes": [],
            "_model_module": "@jupyter-widgets/controls",
            "_model_module_version": "1.5.0",
            "_model_name": "FloatProgressModel",
            "_view_count": null,
            "_view_module": "@jupyter-widgets/controls",
            "_view_module_version": "1.5.0",
            "_view_name": "ProgressView",
            "bar_style": "success",
            "description": "",
            "description_tooltip": null,
            "layout": "IPY_MODEL_98d3d13c81954aef94d59531856168a1",
            "max": 1,
            "min": 0,
            "orientation": "horizontal",
            "style": "IPY_MODEL_bf67d2091e014809bc30c394a6d14ef0",
            "value": 1
          }
        },
        "1077517a82c74333a77dfe2b7abf51ec": {
          "model_module": "@jupyter-widgets/controls",
          "model_name": "HTMLModel",
          "model_module_version": "1.5.0",
          "state": {
            "_dom_classes": [],
            "_model_module": "@jupyter-widgets/controls",
            "_model_module_version": "1.5.0",
            "_model_name": "HTMLModel",
            "_view_count": null,
            "_view_module": "@jupyter-widgets/controls",
            "_view_module_version": "1.5.0",
            "_view_name": "HTMLView",
            "description": "",
            "description_tooltip": null,
            "layout": "IPY_MODEL_019560a0bfc54ccca6c2255d35e9142c",
            "placeholder": "​",
            "style": "IPY_MODEL_35a6fbeb5fb945aa953a494b8804bf55",
            "value": " 1/1 [00:01&lt;00:00,  1.86s/it]"
          }
        },
        "34294c782f0c4d7fbb83ba7f00e73ad7": {
          "model_module": "@jupyter-widgets/base",
          "model_name": "LayoutModel",
          "model_module_version": "1.2.0",
          "state": {
            "_model_module": "@jupyter-widgets/base",
            "_model_module_version": "1.2.0",
            "_model_name": "LayoutModel",
            "_view_count": null,
            "_view_module": "@jupyter-widgets/base",
            "_view_module_version": "1.2.0",
            "_view_name": "LayoutView",
            "align_content": null,
            "align_items": null,
            "align_self": null,
            "border": null,
            "bottom": null,
            "display": null,
            "flex": null,
            "flex_flow": null,
            "grid_area": null,
            "grid_auto_columns": null,
            "grid_auto_flow": null,
            "grid_auto_rows": null,
            "grid_column": null,
            "grid_gap": null,
            "grid_row": null,
            "grid_template_areas": null,
            "grid_template_columns": null,
            "grid_template_rows": null,
            "height": null,
            "justify_content": null,
            "justify_items": null,
            "left": null,
            "margin": null,
            "max_height": null,
            "max_width": null,
            "min_height": null,
            "min_width": null,
            "object_fit": null,
            "object_position": null,
            "order": null,
            "overflow": null,
            "overflow_x": null,
            "overflow_y": null,
            "padding": null,
            "right": null,
            "top": null,
            "visibility": null,
            "width": null
          }
        },
        "e1234a42c8554b66a2d327a922598cd2": {
          "model_module": "@jupyter-widgets/base",
          "model_name": "LayoutModel",
          "model_module_version": "1.2.0",
          "state": {
            "_model_module": "@jupyter-widgets/base",
            "_model_module_version": "1.2.0",
            "_model_name": "LayoutModel",
            "_view_count": null,
            "_view_module": "@jupyter-widgets/base",
            "_view_module_version": "1.2.0",
            "_view_name": "LayoutView",
            "align_content": null,
            "align_items": null,
            "align_self": null,
            "border": null,
            "bottom": null,
            "display": null,
            "flex": null,
            "flex_flow": null,
            "grid_area": null,
            "grid_auto_columns": null,
            "grid_auto_flow": null,
            "grid_auto_rows": null,
            "grid_column": null,
            "grid_gap": null,
            "grid_row": null,
            "grid_template_areas": null,
            "grid_template_columns": null,
            "grid_template_rows": null,
            "height": null,
            "justify_content": null,
            "justify_items": null,
            "left": null,
            "margin": null,
            "max_height": null,
            "max_width": null,
            "min_height": null,
            "min_width": null,
            "object_fit": null,
            "object_position": null,
            "order": null,
            "overflow": null,
            "overflow_x": null,
            "overflow_y": null,
            "padding": null,
            "right": null,
            "top": null,
            "visibility": null,
            "width": null
          }
        },
        "b80d5f5c6588453ea7981715bce424b4": {
          "model_module": "@jupyter-widgets/controls",
          "model_name": "DescriptionStyleModel",
          "model_module_version": "1.5.0",
          "state": {
            "_model_module": "@jupyter-widgets/controls",
            "_model_module_version": "1.5.0",
            "_model_name": "DescriptionStyleModel",
            "_view_count": null,
            "_view_module": "@jupyter-widgets/base",
            "_view_module_version": "1.2.0",
            "_view_name": "StyleView",
            "description_width": ""
          }
        },
        "98d3d13c81954aef94d59531856168a1": {
          "model_module": "@jupyter-widgets/base",
          "model_name": "LayoutModel",
          "model_module_version": "1.2.0",
          "state": {
            "_model_module": "@jupyter-widgets/base",
            "_model_module_version": "1.2.0",
            "_model_name": "LayoutModel",
            "_view_count": null,
            "_view_module": "@jupyter-widgets/base",
            "_view_module_version": "1.2.0",
            "_view_name": "LayoutView",
            "align_content": null,
            "align_items": null,
            "align_self": null,
            "border": null,
            "bottom": null,
            "display": null,
            "flex": null,
            "flex_flow": null,
            "grid_area": null,
            "grid_auto_columns": null,
            "grid_auto_flow": null,
            "grid_auto_rows": null,
            "grid_column": null,
            "grid_gap": null,
            "grid_row": null,
            "grid_template_areas": null,
            "grid_template_columns": null,
            "grid_template_rows": null,
            "height": null,
            "justify_content": null,
            "justify_items": null,
            "left": null,
            "margin": null,
            "max_height": null,
            "max_width": null,
            "min_height": null,
            "min_width": null,
            "object_fit": null,
            "object_position": null,
            "order": null,
            "overflow": null,
            "overflow_x": null,
            "overflow_y": null,
            "padding": null,
            "right": null,
            "top": null,
            "visibility": null,
            "width": null
          }
        },
        "bf67d2091e014809bc30c394a6d14ef0": {
          "model_module": "@jupyter-widgets/controls",
          "model_name": "ProgressStyleModel",
          "model_module_version": "1.5.0",
          "state": {
            "_model_module": "@jupyter-widgets/controls",
            "_model_module_version": "1.5.0",
            "_model_name": "ProgressStyleModel",
            "_view_count": null,
            "_view_module": "@jupyter-widgets/base",
            "_view_module_version": "1.2.0",
            "_view_name": "StyleView",
            "bar_color": null,
            "description_width": ""
          }
        },
        "019560a0bfc54ccca6c2255d35e9142c": {
          "model_module": "@jupyter-widgets/base",
          "model_name": "LayoutModel",
          "model_module_version": "1.2.0",
          "state": {
            "_model_module": "@jupyter-widgets/base",
            "_model_module_version": "1.2.0",
            "_model_name": "LayoutModel",
            "_view_count": null,
            "_view_module": "@jupyter-widgets/base",
            "_view_module_version": "1.2.0",
            "_view_name": "LayoutView",
            "align_content": null,
            "align_items": null,
            "align_self": null,
            "border": null,
            "bottom": null,
            "display": null,
            "flex": null,
            "flex_flow": null,
            "grid_area": null,
            "grid_auto_columns": null,
            "grid_auto_flow": null,
            "grid_auto_rows": null,
            "grid_column": null,
            "grid_gap": null,
            "grid_row": null,
            "grid_template_areas": null,
            "grid_template_columns": null,
            "grid_template_rows": null,
            "height": null,
            "justify_content": null,
            "justify_items": null,
            "left": null,
            "margin": null,
            "max_height": null,
            "max_width": null,
            "min_height": null,
            "min_width": null,
            "object_fit": null,
            "object_position": null,
            "order": null,
            "overflow": null,
            "overflow_x": null,
            "overflow_y": null,
            "padding": null,
            "right": null,
            "top": null,
            "visibility": null,
            "width": null
          }
        },
        "35a6fbeb5fb945aa953a494b8804bf55": {
          "model_module": "@jupyter-widgets/controls",
          "model_name": "DescriptionStyleModel",
          "model_module_version": "1.5.0",
          "state": {
            "_model_module": "@jupyter-widgets/controls",
            "_model_module_version": "1.5.0",
            "_model_name": "DescriptionStyleModel",
            "_view_count": null,
            "_view_module": "@jupyter-widgets/base",
            "_view_module_version": "1.2.0",
            "_view_name": "StyleView",
            "description_width": ""
          }
        },
        "f241463340a44f51b315599a858f34b0": {
          "model_module": "@jupyter-widgets/controls",
          "model_name": "HBoxModel",
          "model_module_version": "1.5.0",
          "state": {
            "_dom_classes": [],
            "_model_module": "@jupyter-widgets/controls",
            "_model_module_version": "1.5.0",
            "_model_name": "HBoxModel",
            "_view_count": null,
            "_view_module": "@jupyter-widgets/controls",
            "_view_module_version": "1.5.0",
            "_view_name": "HBoxView",
            "box_style": "",
            "children": [
              "IPY_MODEL_279b6f7b35ab47c1821924d7f08335d8",
              "IPY_MODEL_695f46929b8b45648efe80495ae0c75f",
              "IPY_MODEL_81212fa004764e27a6311292049ddead"
            ],
            "layout": "IPY_MODEL_2ab94942de994b5eae44281f08a8e2f6"
          }
        },
        "279b6f7b35ab47c1821924d7f08335d8": {
          "model_module": "@jupyter-widgets/controls",
          "model_name": "HTMLModel",
          "model_module_version": "1.5.0",
          "state": {
            "_dom_classes": [],
            "_model_module": "@jupyter-widgets/controls",
            "_model_module_version": "1.5.0",
            "_model_name": "HTMLModel",
            "_view_count": null,
            "_view_module": "@jupyter-widgets/controls",
            "_view_module_version": "1.5.0",
            "_view_name": "HTMLView",
            "description": "",
            "description_tooltip": null,
            "layout": "IPY_MODEL_072708ac4b8f43edabd1b9a9582b23c3",
            "placeholder": "​",
            "style": "IPY_MODEL_5c8024e87c204093bf025dd2b9e5c913",
            "value": "Export report to file: 100%"
          }
        },
        "695f46929b8b45648efe80495ae0c75f": {
          "model_module": "@jupyter-widgets/controls",
          "model_name": "FloatProgressModel",
          "model_module_version": "1.5.0",
          "state": {
            "_dom_classes": [],
            "_model_module": "@jupyter-widgets/controls",
            "_model_module_version": "1.5.0",
            "_model_name": "FloatProgressModel",
            "_view_count": null,
            "_view_module": "@jupyter-widgets/controls",
            "_view_module_version": "1.5.0",
            "_view_name": "ProgressView",
            "bar_style": "success",
            "description": "",
            "description_tooltip": null,
            "layout": "IPY_MODEL_5feed9c1e78249718b0174e65d9f761b",
            "max": 1,
            "min": 0,
            "orientation": "horizontal",
            "style": "IPY_MODEL_9eb3840e0db54ac3a49b74f77211ea4d",
            "value": 1
          }
        },
        "81212fa004764e27a6311292049ddead": {
          "model_module": "@jupyter-widgets/controls",
          "model_name": "HTMLModel",
          "model_module_version": "1.5.0",
          "state": {
            "_dom_classes": [],
            "_model_module": "@jupyter-widgets/controls",
            "_model_module_version": "1.5.0",
            "_model_name": "HTMLModel",
            "_view_count": null,
            "_view_module": "@jupyter-widgets/controls",
            "_view_module_version": "1.5.0",
            "_view_name": "HTMLView",
            "description": "",
            "description_tooltip": null,
            "layout": "IPY_MODEL_d2186bc602ba4adb806069d9799484d0",
            "placeholder": "​",
            "style": "IPY_MODEL_d15ddf45e9da44dfae7e03b2bde24d1c",
            "value": " 1/1 [00:00&lt;00:00, 31.37it/s]"
          }
        },
        "2ab94942de994b5eae44281f08a8e2f6": {
          "model_module": "@jupyter-widgets/base",
          "model_name": "LayoutModel",
          "model_module_version": "1.2.0",
          "state": {
            "_model_module": "@jupyter-widgets/base",
            "_model_module_version": "1.2.0",
            "_model_name": "LayoutModel",
            "_view_count": null,
            "_view_module": "@jupyter-widgets/base",
            "_view_module_version": "1.2.0",
            "_view_name": "LayoutView",
            "align_content": null,
            "align_items": null,
            "align_self": null,
            "border": null,
            "bottom": null,
            "display": null,
            "flex": null,
            "flex_flow": null,
            "grid_area": null,
            "grid_auto_columns": null,
            "grid_auto_flow": null,
            "grid_auto_rows": null,
            "grid_column": null,
            "grid_gap": null,
            "grid_row": null,
            "grid_template_areas": null,
            "grid_template_columns": null,
            "grid_template_rows": null,
            "height": null,
            "justify_content": null,
            "justify_items": null,
            "left": null,
            "margin": null,
            "max_height": null,
            "max_width": null,
            "min_height": null,
            "min_width": null,
            "object_fit": null,
            "object_position": null,
            "order": null,
            "overflow": null,
            "overflow_x": null,
            "overflow_y": null,
            "padding": null,
            "right": null,
            "top": null,
            "visibility": null,
            "width": null
          }
        },
        "072708ac4b8f43edabd1b9a9582b23c3": {
          "model_module": "@jupyter-widgets/base",
          "model_name": "LayoutModel",
          "model_module_version": "1.2.0",
          "state": {
            "_model_module": "@jupyter-widgets/base",
            "_model_module_version": "1.2.0",
            "_model_name": "LayoutModel",
            "_view_count": null,
            "_view_module": "@jupyter-widgets/base",
            "_view_module_version": "1.2.0",
            "_view_name": "LayoutView",
            "align_content": null,
            "align_items": null,
            "align_self": null,
            "border": null,
            "bottom": null,
            "display": null,
            "flex": null,
            "flex_flow": null,
            "grid_area": null,
            "grid_auto_columns": null,
            "grid_auto_flow": null,
            "grid_auto_rows": null,
            "grid_column": null,
            "grid_gap": null,
            "grid_row": null,
            "grid_template_areas": null,
            "grid_template_columns": null,
            "grid_template_rows": null,
            "height": null,
            "justify_content": null,
            "justify_items": null,
            "left": null,
            "margin": null,
            "max_height": null,
            "max_width": null,
            "min_height": null,
            "min_width": null,
            "object_fit": null,
            "object_position": null,
            "order": null,
            "overflow": null,
            "overflow_x": null,
            "overflow_y": null,
            "padding": null,
            "right": null,
            "top": null,
            "visibility": null,
            "width": null
          }
        },
        "5c8024e87c204093bf025dd2b9e5c913": {
          "model_module": "@jupyter-widgets/controls",
          "model_name": "DescriptionStyleModel",
          "model_module_version": "1.5.0",
          "state": {
            "_model_module": "@jupyter-widgets/controls",
            "_model_module_version": "1.5.0",
            "_model_name": "DescriptionStyleModel",
            "_view_count": null,
            "_view_module": "@jupyter-widgets/base",
            "_view_module_version": "1.2.0",
            "_view_name": "StyleView",
            "description_width": ""
          }
        },
        "5feed9c1e78249718b0174e65d9f761b": {
          "model_module": "@jupyter-widgets/base",
          "model_name": "LayoutModel",
          "model_module_version": "1.2.0",
          "state": {
            "_model_module": "@jupyter-widgets/base",
            "_model_module_version": "1.2.0",
            "_model_name": "LayoutModel",
            "_view_count": null,
            "_view_module": "@jupyter-widgets/base",
            "_view_module_version": "1.2.0",
            "_view_name": "LayoutView",
            "align_content": null,
            "align_items": null,
            "align_self": null,
            "border": null,
            "bottom": null,
            "display": null,
            "flex": null,
            "flex_flow": null,
            "grid_area": null,
            "grid_auto_columns": null,
            "grid_auto_flow": null,
            "grid_auto_rows": null,
            "grid_column": null,
            "grid_gap": null,
            "grid_row": null,
            "grid_template_areas": null,
            "grid_template_columns": null,
            "grid_template_rows": null,
            "height": null,
            "justify_content": null,
            "justify_items": null,
            "left": null,
            "margin": null,
            "max_height": null,
            "max_width": null,
            "min_height": null,
            "min_width": null,
            "object_fit": null,
            "object_position": null,
            "order": null,
            "overflow": null,
            "overflow_x": null,
            "overflow_y": null,
            "padding": null,
            "right": null,
            "top": null,
            "visibility": null,
            "width": null
          }
        },
        "9eb3840e0db54ac3a49b74f77211ea4d": {
          "model_module": "@jupyter-widgets/controls",
          "model_name": "ProgressStyleModel",
          "model_module_version": "1.5.0",
          "state": {
            "_model_module": "@jupyter-widgets/controls",
            "_model_module_version": "1.5.0",
            "_model_name": "ProgressStyleModel",
            "_view_count": null,
            "_view_module": "@jupyter-widgets/base",
            "_view_module_version": "1.2.0",
            "_view_name": "StyleView",
            "bar_color": null,
            "description_width": ""
          }
        },
        "d2186bc602ba4adb806069d9799484d0": {
          "model_module": "@jupyter-widgets/base",
          "model_name": "LayoutModel",
          "model_module_version": "1.2.0",
          "state": {
            "_model_module": "@jupyter-widgets/base",
            "_model_module_version": "1.2.0",
            "_model_name": "LayoutModel",
            "_view_count": null,
            "_view_module": "@jupyter-widgets/base",
            "_view_module_version": "1.2.0",
            "_view_name": "LayoutView",
            "align_content": null,
            "align_items": null,
            "align_self": null,
            "border": null,
            "bottom": null,
            "display": null,
            "flex": null,
            "flex_flow": null,
            "grid_area": null,
            "grid_auto_columns": null,
            "grid_auto_flow": null,
            "grid_auto_rows": null,
            "grid_column": null,
            "grid_gap": null,
            "grid_row": null,
            "grid_template_areas": null,
            "grid_template_columns": null,
            "grid_template_rows": null,
            "height": null,
            "justify_content": null,
            "justify_items": null,
            "left": null,
            "margin": null,
            "max_height": null,
            "max_width": null,
            "min_height": null,
            "min_width": null,
            "object_fit": null,
            "object_position": null,
            "order": null,
            "overflow": null,
            "overflow_x": null,
            "overflow_y": null,
            "padding": null,
            "right": null,
            "top": null,
            "visibility": null,
            "width": null
          }
        },
        "d15ddf45e9da44dfae7e03b2bde24d1c": {
          "model_module": "@jupyter-widgets/controls",
          "model_name": "DescriptionStyleModel",
          "model_module_version": "1.5.0",
          "state": {
            "_model_module": "@jupyter-widgets/controls",
            "_model_module_version": "1.5.0",
            "_model_name": "DescriptionStyleModel",
            "_view_count": null,
            "_view_module": "@jupyter-widgets/base",
            "_view_module_version": "1.2.0",
            "_view_name": "StyleView",
            "description_width": ""
          }
        }
      }
    }
  },
  "cells": [
    {
      "cell_type": "markdown",
      "metadata": {
        "id": "view-in-github",
        "colab_type": "text"
      },
      "source": [
        "<a href=\"https://colab.research.google.com/github/kiran1234098/CLASS_WORK/blob/master/statistics1.ipynb\" target=\"_parent\"><img src=\"https://colab.research.google.com/assets/colab-badge.svg\" alt=\"Open In Colab\"/></a>"
      ]
    },
    {
      "cell_type": "code",
      "execution_count": 2,
      "metadata": {
        "id": "N4QmK_c5LU-M"
      },
      "outputs": [],
      "source": [
        "data=[23, 24, 32, 45, 12, 43, 67, 45, 32, 56, 32]"
      ]
    },
    {
      "cell_type": "code",
      "source": [
        "data\n"
      ],
      "metadata": {
        "colab": {
          "base_uri": "https://localhost:8080/"
        },
        "id": "Ru_nw_SRMch2",
        "outputId": "ca3c1fdb-e659-424d-c313-abf3c8d343bf"
      },
      "execution_count": 3,
      "outputs": [
        {
          "output_type": "execute_result",
          "data": {
            "text/plain": [
              "[23, 24, 32, 45, 12, 43, 67, 45, 32, 56, 32]"
            ]
          },
          "metadata": {},
          "execution_count": 3
        }
      ]
    },
    {
      "cell_type": "code",
      "source": [
        "data_copy= data.copy()"
      ],
      "metadata": {
        "id": "3MhYngLtMhqB"
      },
      "execution_count": 4,
      "outputs": []
    },
    {
      "cell_type": "code",
      "source": [
        "data_copy1 = data.copy()"
      ],
      "metadata": {
        "id": "Az30AMiXMzpg"
      },
      "execution_count": 5,
      "outputs": []
    },
    {
      "cell_type": "code",
      "source": [
        "data_copy.sort()"
      ],
      "metadata": {
        "id": "vyfWfjpKM62B"
      },
      "execution_count": 6,
      "outputs": []
    },
    {
      "cell_type": "code",
      "source": [
        "data_copy.append(289)"
      ],
      "metadata": {
        "id": "yYB3pWptNEbH"
      },
      "execution_count": 7,
      "outputs": []
    },
    {
      "cell_type": "code",
      "source": [
        "data_copy"
      ],
      "metadata": {
        "colab": {
          "base_uri": "https://localhost:8080/"
        },
        "id": "GdZaCdOFNNSt",
        "outputId": "7ed74cb7-46d2-432a-d099-46a7c499eb43"
      },
      "execution_count": 8,
      "outputs": [
        {
          "output_type": "execute_result",
          "data": {
            "text/plain": [
              "[12, 23, 24, 32, 32, 32, 43, 45, 45, 56, 67, 289]"
            ]
          },
          "metadata": {},
          "execution_count": 8
        }
      ]
    },
    {
      "cell_type": "code",
      "source": [
        "import seaborn as sns "
      ],
      "metadata": {
        "id": "NWNo7kwQNRQU"
      },
      "execution_count": 9,
      "outputs": []
    },
    {
      "cell_type": "code",
      "source": [
        "sns.histplot(data)"
      ],
      "metadata": {
        "colab": {
          "base_uri": "https://localhost:8080/",
          "height": 282
        },
        "id": "kK7K7ao_NYN8",
        "outputId": "1c5250d3-7f50-43df-df0f-3f422a2c5884"
      },
      "execution_count": 10,
      "outputs": [
        {
          "output_type": "execute_result",
          "data": {
            "text/plain": [
              "<Axes: ylabel='Count'>"
            ]
          },
          "metadata": {},
          "execution_count": 10
        },
        {
          "output_type": "display_data",
          "data": {
            "text/plain": [
              "<Figure size 432x288 with 1 Axes>"
            ],
            "image/png": "[encoded data removed]"
          },
          "metadata": {
            "needs_background": "light"
          }
        }
      ]
    },
    {
      "cell_type": "code",
      "source": [
        "sns.histplot(data,kde=True)"
      ],
      "metadata": {
        "colab": {
          "base_uri": "https://localhost:8080/",
          "height": 282
        },
        "id": "HoIyYmHDNguJ",
        "outputId": "17197b4b-362a-4323-dbc7-b4d08a02d2b1"
      },
      "execution_count": 11,
      "outputs": [
        {
          "output_type": "execute_result",
          "data": {
            "text/plain": [
              "<Axes: ylabel='Count'>"
            ]
          },
          "metadata": {},
          "execution_count": 11
        },
        {
          "output_type": "display_data",
          "data": {
            "text/plain": [
              "<Figure size 432x288 with 1 Axes>"
            ],
            "image/png": "[encoded data removed]"
          },
          "metadata": {
            "needs_background": "light"
          }
        }
      ]
    },
    {
      "cell_type": "code",
      "source": [
        "sns.histplot(data_copy, kde=True)"
      ],
      "metadata": {
        "colab": {
          "base_uri": "https://localhost:8080/",
          "height": 282
        },
        "id": "gokUCCc8Nt35",
        "outputId": "2a4fef79-a945-42ba-d79a-2fdfe7d8035b"
      },
      "execution_count": 12,
      "outputs": [
        {
          "output_type": "execute_result",
          "data": {
            "text/plain": [
              "<Axes: ylabel='Count'>"
            ]
          },
          "metadata": {},
          "execution_count": 12
        },
        {
          "output_type": "display_data",
          "data": {
            "text/plain": [
              "<Figure size 432x288 with 1 Axes>"
            ],
            "image/png": "[encoded data removed]"
          },
          "metadata": {
            "needs_background": "light"
          }
        }
      ]
    },
    {
      "cell_type": "code",
      "source": [
        "data_copy1[0]=-10"
      ],
      "metadata": {
        "id": "ivM3rIXVN99I"
      },
      "execution_count": 13,
      "outputs": []
    },
    {
      "cell_type": "code",
      "source": [
        "data_copy1[1]=-75"
      ],
      "metadata": {
        "id": "pDn1lBNAOL1a"
      },
      "execution_count": 14,
      "outputs": []
    },
    {
      "cell_type": "code",
      "source": [
        "data_copy1"
      ],
      "metadata": {
        "colab": {
          "base_uri": "https://localhost:8080/"
        },
        "id": "xi66uqC-OSiB",
        "outputId": "3fd1f71f-2097-44b3-9ccc-1768f0ff278d"
      },
      "execution_count": 15,
      "outputs": [
        {
          "output_type": "execute_result",
          "data": {
            "text/plain": [
              "[-10, -75, 32, 45, 12, 43, 67, 45, 32, 56, 32]"
            ]
          },
          "metadata": {},
          "execution_count": 15
        }
      ]
    },
    {
      "cell_type": "code",
      "source": [
        "sns.histplot(data_copy1,kde=True)"
      ],
      "metadata": {
        "colab": {
          "base_uri": "https://localhost:8080/",
          "height": 282
        },
        "id": "tBvbLo-COYIQ",
        "outputId": "7268af84-cea9-45a4-a3db-915663e73d33"
      },
      "execution_count": 16,
      "outputs": [
        {
          "output_type": "execute_result",
          "data": {
            "text/plain": [
              "<Axes: ylabel='Count'>"
            ]
          },
          "metadata": {},
          "execution_count": 16
        },
        {
          "output_type": "display_data",
          "data": {
            "text/plain": [
              "<Figure size 432x288 with 1 Axes>"
            ],
            "image/png": "[encoded data removed]"
          },
          "metadata": {
            "needs_background": "light"
          }
        }
      ]
    },
    {
      "cell_type": "code",
      "source": [
        "import pandas as pd "
      ],
      "metadata": {
        "id": "lR1xmK7iOnwB"
      },
      "execution_count": 17,
      "outputs": []
    },
    {
      "cell_type": "code",
      "source": [
        "data1 =pd.read_csv(\"https://raw.githubusercontent.com/sunnysavita10/Statistics_With_Python/main/Iris.csv\")"
      ],
      "metadata": {
        "id": "ppdMTdNhOvYy"
      },
      "execution_count": 18,
      "outputs": []
    },
    {
      "cell_type": "code",
      "source": [
        "data1.head()"
      ],
      "metadata": {
        "colab": {
          "base_uri": "https://localhost:8080/",
          "height": 206
        },
        "id": "tceirOPXPCEi",
        "outputId": "fb390aa5-c457-43c1-b3a0-1e7a8b85d57f"
      },
      "execution_count": 19,
      "outputs": [
        {
          "output_type": "execute_result",
          "data": {
            "text/plain": [
              "   Id  SepalLengthCm  SepalWidthCm  PetalLengthCm  PetalWidthCm      Species\n",
              "0   1            5.1           3.5            1.4           0.2  Iris-setosa\n",
              "1   2            4.9           3.0            1.4           0.2  Iris-setosa\n",
              "2   3            4.7           3.2            1.3           0.2  Iris-setosa\n",
              "3   4            4.6           3.1            1.5           0.2  Iris-setosa\n",
              "4   5            5.0           3.6            1.4           0.2  Iris-setosa"
            ],
            "text/html": [
              "\n",
              "  <div id=\"df-85377678-fbaa-493b-8c6f-59f78dc21f25\">\n",
              "    <div class=\"colab-df-container\">\n",
              "      <div>\n",
              "<style scoped>\n",
              "    .dataframe tbody tr th:only-of-type {\n",
              "        vertical-align: middle;\n",
              "    }\n",
              "\n",
              "    .dataframe tbody tr th {\n",
              "        vertical-align: top;\n",
              "    }\n",
              "\n",
              "    .dataframe thead th {\n",
              "        text-align: right;\n",
              "    }\n",
              "</style>\n",
              "<table border=\"1\" class=\"dataframe\">\n",
              "  <thead>\n",
              "    <tr style=\"text-align: right;\">\n",
              "      <th></th>\n",
              "      <th>Id</th>\n",
              "      <th>SepalLengthCm</th>\n",
              "      <th>SepalWidthCm</th>\n",
              "      <th>PetalLengthCm</th>\n",
              "      <th>PetalWidthCm</th>\n",
              "      <th>Species</th>\n",
              "    </tr>\n",
              "  </thead>\n",
              "  <tbody>\n",
              "    <tr>\n",
              "      <th>0</th>\n",
              "      <td>1</td>\n",
              "      <td>5.1</td>\n",
              "      <td>3.5</td>\n",
              "      <td>1.4</td>\n",
              "      <td>0.2</td>\n",
              "      <td>Iris-setosa</td>\n",
              "    </tr>\n",
              "    <tr>\n",
              "      <th>1</th>\n",
              "      <td>2</td>\n",
              "      <td>4.9</td>\n",
              "      <td>3.0</td>\n",
              "      <td>1.4</td>\n",
              "      <td>0.2</td>\n",
              "      <td>Iris-setosa</td>\n",
              "    </tr>\n",
              "    <tr>\n",
              "      <th>2</th>\n",
              "      <td>3</td>\n",
              "      <td>4.7</td>\n",
              "      <td>3.2</td>\n",
              "      <td>1.3</td>\n",
              "      <td>0.2</td>\n",
              "      <td>Iris-setosa</td>\n",
              "    </tr>\n",
              "    <tr>\n",
              "      <th>3</th>\n",
              "      <td>4</td>\n",
              "      <td>4.6</td>\n",
              "      <td>3.1</td>\n",
              "      <td>1.5</td>\n",
              "      <td>0.2</td>\n",
              "      <td>Iris-setosa</td>\n",
              "    </tr>\n",
              "    <tr>\n",
              "      <th>4</th>\n",
              "      <td>5</td>\n",
              "      <td>5.0</td>\n",
              "      <td>3.6</td>\n",
              "      <td>1.4</td>\n",
              "      <td>0.2</td>\n",
              "      <td>Iris-setosa</td>\n",
              "    </tr>\n",
              "  </tbody>\n",
              "</table>\n",
              "</div>\n",
              "      <button class=\"colab-df-convert\" onclick=\"convertToInteractive('df-85377678-fbaa-493b-8c6f-59f78dc21f25')\"\n",
              "              title=\"Convert this dataframe to an interactive table.\"\n",
              "              style=\"display:none;\">\n",
              "        \n",
              "  <svg xmlns=\"http://www.w3.org/2000/svg\" height=\"24px\"viewBox=\"0 0 24 24\"\n",
              "       width=\"24px\">\n",
              "    <path d=\"M0 0h24v24H0V0z\" fill=\"none\"/>\n",
              "    <path d=\"M18.56 5.44l.94 2.06.94-2.06 2.06-.94-2.06-.94-.94-2.06-.94 2.06-2.06.94zm-11 1L8.5 8.5l.94-2.06 2.06-.94-2.06-.94L8.5 2.5l-.94 2.06-2.06.94zm10 10l.94 2.06.94-2.06 2.06-.94-2.06-.94-.94-2.06-.94 2.06-2.06.94z\"/><path d=\"M17.41 7.96l-1.37-1.37c-.4-.4-.92-.59-1.43-.59-.52 0-1.04.2-1.43.59L10.3 9.45l-7.72 7.72c-.78.78-.78 2.05 0 2.83L4 21.41c.39.39.9.59 1.41.59.51 0 1.02-.2 1.41-.59l7.78-7.78 2.81-2.81c.8-.78.8-2.07 0-2.86zM5.41 20L4 18.59l7.72-7.72 1.47 1.35L5.41 20z\"/>\n",
              "  </svg>\n",
              "      </button>\n",
              "      \n",
              "  <style>\n",
              "    .colab-df-container {\n",
              "      display:flex;\n",
              "      flex-wrap:wrap;\n",
              "      gap: 12px;\n",
              "    }\n",
              "\n",
              "    .colab-df-convert {\n",
              "      background-color: #E8F0FE;\n",
              "      border: none;\n",
              "      border-radius: 50%;\n",
              "      cursor: pointer;\n",
              "      display: none;\n",
              "      fill: #1967D2;\n",
              "      height: 32px;\n",
              "      padding: 0 0 0 0;\n",
              "      width: 32px;\n",
              "    }\n",
              "\n",
              "    .colab-df-convert:hover {\n",
              "      background-color: #E2EBFA;\n",
              "      box-shadow: 0px 1px 2px rgba(60, 64, 67, 0.3), 0px 1px 3px 1px rgba(60, 64, 67, 0.15);\n",
              "      fill: #174EA6;\n",
              "    }\n",
              "\n",
              "    [theme=dark] .colab-df-convert {\n",
              "      background-color: #3B4455;\n",
              "      fill: #D2E3FC;\n",
              "    }\n",
              "\n",
              "    [theme=dark] .colab-df-convert:hover {\n",
              "      background-color: #434B5C;\n",
              "      box-shadow: 0px 1px 3px 1px rgba(0, 0, 0, 0.15);\n",
              "      filter: drop-shadow(0px 1px 2px rgba(0, 0, 0, 0.3));\n",
              "      fill: #FFFFFF;\n",
              "    }\n",
              "  </style>\n",
              "\n",
              "      <script>\n",
              "        const buttonEl =\n",
              "          document.querySelector('#df-85377678-fbaa-493b-8c6f-59f78dc21f25 button.colab-df-convert');\n",
              "        buttonEl.style.display =\n",
              "          google.colab.kernel.accessAllowed ? 'block' : 'none';\n",
              "\n",
              "        async function convertToInteractive(key) {\n",
              "          const element = document.querySelector('#df-85377678-fbaa-493b-8c6f-59f78dc21f25');\n",
              "          const dataTable =\n",
              "            await google.colab.kernel.invokeFunction('convertToInteractive',\n",
              "                                                     [key], {});\n",
              "          if (!dataTable) return;\n",
              "\n",
              "          const docLinkHtml = 'Like what you see? Visit the ' +\n",
              "            '<a target=\"_blank\" href=https://colab.research.google.com/notebooks/data_table.ipynb>data table notebook</a>'\n",
              "            + ' to learn more about interactive tables.';\n",
              "          element.innerHTML = '';\n",
              "          dataTable['output_type'] = 'display_data';\n",
              "          await google.colab.output.renderOutput(dataTable, element);\n",
              "          const docLink = document.createElement('div');\n",
              "          docLink.innerHTML = docLinkHtml;\n",
              "          element.appendChild(docLink);\n",
              "        }\n",
              "      </script>\n",
              "    </div>\n",
              "  </div>\n",
              "  "
            ]
          },
          "metadata": {},
          "execution_count": 19
        }
      ]
    },
    {
      "cell_type": "code",
      "source": [
        "sns.histplot(data1[\"SepalLengthCm\"],kde=True)"
      ],
      "metadata": {
        "colab": {
          "base_uri": "https://localhost:8080/",
          "height": 296
        },
        "id": "r3-u4dzhPNYP",
        "outputId": "be005a4e-aa03-4069-cbc1-ce239aeac29f"
      },
      "execution_count": 20,
      "outputs": [
        {
          "output_type": "execute_result",
          "data": {
            "text/plain": [
              "<Axes: xlabel='SepalLengthCm', ylabel='Count'>"
            ]
          },
          "metadata": {},
          "execution_count": 20
        },
        {
          "output_type": "display_data",
          "data": {
            "text/plain": [
              "<Figure size 432x288 with 1 Axes>"
            ],
            "image/png": "[encoded data removed]"
          },
          "metadata": {
            "needs_background": "light"
          }
        }
      ]
    },
    {
      "cell_type": "code",
      "source": [
        "import numpy as np\n"
      ],
      "metadata": {
        "id": "V1JzU7VBPyxg"
      },
      "execution_count": 22,
      "outputs": []
    },
    {
      "cell_type": "code",
      "source": [
        "sns.histplot(np.log(data1[\"SepalLengthCm\"]),kde=True)"
      ],
      "metadata": {
        "colab": {
          "base_uri": "https://localhost:8080/",
          "height": 296
        },
        "id": "98d0qqqBPb1w",
        "outputId": "f7b99ba9-a5fb-46dd-f7c5-e04236e2e391"
      },
      "execution_count": 23,
      "outputs": [
        {
          "output_type": "execute_result",
          "data": {
            "text/plain": [
              "<Axes: xlabel='SepalLengthCm', ylabel='Count'>"
            ]
          },
          "metadata": {},
          "execution_count": 23
        },
        {
          "output_type": "display_data",
          "data": {
            "text/plain": [
              "<Figure size 432x288 with 1 Axes>"
            ],
            "image/png": "[encoded data removed]"
          },
          "metadata": {
            "needs_background": "light"
          }
        }
      ]
    },
    {
      "cell_type": "code",
      "source": [
        "sns.histplot(data1[\"SepalWidthCm\"],kde=True)"
      ],
      "metadata": {
        "colab": {
          "base_uri": "https://localhost:8080/",
          "height": 296
        },
        "id": "15SLlzckP_EX",
        "outputId": "28a4057f-2f53-4853-8a49-727ccf970213"
      },
      "execution_count": 24,
      "outputs": [
        {
          "output_type": "execute_result",
          "data": {
            "text/plain": [
              "<Axes: xlabel='SepalWidthCm', ylabel='Count'>"
            ]
          },
          "metadata": {},
          "execution_count": 24
        },
        {
          "output_type": "display_data",
          "data": {
            "text/plain": [
              "<Figure size 432x288 with 1 Axes>"
            ],
            "image/png": "[encoded data removed]"
          },
          "metadata": {
            "needs_background": "light"
          }
        }
      ]
    },
    {
      "cell_type": "code",
      "source": [
        "sns.histplot(data1[\"PetalLengthCm\"],kde=True)"
      ],
      "metadata": {
        "colab": {
          "base_uri": "https://localhost:8080/",
          "height": 296
        },
        "id": "vhfbFR6ZQYz5",
        "outputId": "452b11e3-ecdb-445e-e1c1-57c1d336a273"
      },
      "execution_count": 26,
      "outputs": [
        {
          "output_type": "execute_result",
          "data": {
            "text/plain": [
              "<Axes: xlabel='PetalLengthCm', ylabel='Count'>"
            ]
          },
          "metadata": {},
          "execution_count": 26
        },
        {
          "output_type": "display_data",
          "data": {
            "text/plain": [
              "<Figure size 432x288 with 1 Axes>"
            ],
            "image/png": "[encoded data removed]"
          },
          "metadata": {
            "needs_background": "light"
          }
        }
      ]
    },
    {
      "cell_type": "code",
      "source": [
        "sns.histplot(np.log(data1[\"PetalLengthCm\"]),kde=True)"
      ],
      "metadata": {
        "colab": {
          "base_uri": "https://localhost:8080/",
          "height": 296
        },
        "id": "f8o8_GNzQozH",
        "outputId": "d9e8abff-2b80-4def-92e8-8563c34f0a59"
      },
      "execution_count": 27,
      "outputs": [
        {
          "output_type": "execute_result",
          "data": {
            "text/plain": [
              "<Axes: xlabel='PetalLengthCm', ylabel='Count'>"
            ]
          },
          "metadata": {},
          "execution_count": 27
        },
        {
          "output_type": "display_data",
          "data": {
            "text/plain": [
              "<Figure size 432x288 with 1 Axes>"
            ],
            "image/png": "[encoded data removed]"
          },
          "metadata": {
            "needs_background": "light"
          }
        }
      ]
    },
    {
      "cell_type": "code",
      "source": [
        "sns.histplot(np.log(data1[\"PetalWidthCm\"]),kde=True)"
      ],
      "metadata": {
        "colab": {
          "base_uri": "https://localhost:8080/",
          "height": 296
        },
        "id": "pRvxFoZ9RBIB",
        "outputId": "e08a3413-a1f5-4abe-ae3a-5504e377939a"
      },
      "execution_count": 29,
      "outputs": [
        {
          "output_type": "execute_result",
          "data": {
            "text/plain": [
              "<Axes: xlabel='PetalWidthCm', ylabel='Count'>"
            ]
          },
          "metadata": {},
          "execution_count": 29
        },
        {
          "output_type": "display_data",
          "data": {
            "text/plain": [
              "<Figure size 432x288 with 1 Axes>"
            ],
            "image/png": "[encoded data removed]"
          },
          "metadata": {
            "needs_background": "light"
          }
        }
      ]
    },
    {
      "cell_type": "code",
      "source": [
        "s= np.random.normal(0.5,0.2,1000)"
      ],
      "metadata": {
        "id": "KvLwwN18RbfJ"
      },
      "execution_count": 30,
      "outputs": []
    },
    {
      "cell_type": "code",
      "source": [
        "s"
      ],
      "metadata": {
        "colab": {
          "base_uri": "https://localhost:8080/"
        },
        "id": "LEFdxUx8RqlG",
        "outputId": "661a4c8a-5b17-430e-e278-00ba7efd0e53"
      },
      "execution_count": 31,
      "outputs": [
        {
          "output_type": "execute_result",
          "data": {
            "text/plain": [
              "array([ 0.84153019,  0.8288661 ,  0.51029834,  0.6295274 ,  0.75721942,\n",
              "        0.64826482,  0.57781248,  0.47677506,  0.30932502,  0.84685572,\n",
              "        0.45343436,  0.25615894,  0.61415728,  0.41869856,  0.53178315,\n",
              "        0.65886965,  0.35983993,  0.70795196,  0.4244859 ,  0.3217753 ,\n",
              "        0.41750773,  1.0047891 ,  0.67888809,  0.78924296,  0.29855443,\n",
              "        0.87526978,  0.42698857,  0.56661832,  0.58352822,  0.56623596,\n",
              "        0.57944789,  0.38338058,  0.39891022,  0.37496027,  0.28583143,\n",
              "        0.60761234,  0.43386005,  0.60626385,  0.37366702,  0.48363773,\n",
              "        0.76005467,  0.3090025 ,  1.00054961,  0.5442515 ,  0.53852329,\n",
              "        0.5412556 ,  0.54472502,  0.42206716,  0.29820662,  0.38529628,\n",
              "        0.42683565,  0.75761084,  0.21946973,  0.63855809,  0.4199187 ,\n",
              "        0.35037065,  0.30503908,  0.41566802,  0.53729209,  0.34115437,\n",
              "        0.51245741,  0.47893415,  0.57254103,  0.63813118,  0.308064  ,\n",
              "        0.58415243,  0.6415445 ,  0.15942233,  0.47096745,  0.5728856 ,\n",
              "        0.76185871,  0.39103482,  0.39468149,  0.35719271,  0.61675052,\n",
              "        0.5081058 ,  0.58468011,  0.24641298,  0.1806445 ,  0.45173753,\n",
              "        0.30913125,  0.57793807,  0.39190638,  0.27296359,  0.45404546,\n",
              "        0.53175428,  0.45872916,  0.57935787,  0.59143635,  0.0613412 ,\n",
              "        0.58667536,  0.64274456,  0.57954952,  0.63569328,  0.25277394,\n",
              "        0.89552632,  0.48867731,  0.35941073,  0.73329216,  0.59931665,\n",
              "        0.32421441,  0.49882117,  0.6435242 ,  0.46624328,  0.7358712 ,\n",
              "       -0.01527092,  0.19530202,  0.4706339 ,  0.77932819,  0.42923901,\n",
              "        0.46820148,  0.36309181,  0.61075471,  0.4853316 ,  0.53451777,\n",
              "        0.40279301,  0.30084926,  0.67433121,  0.80476376,  0.39079686,\n",
              "        0.34950187,  0.71502408,  0.522958  ,  0.41107037,  0.35365215,\n",
              "        0.63585304,  0.36938895,  0.64533906,  0.26328746,  0.46207478,\n",
              "        0.3010252 ,  0.59521382,  0.25502919,  0.36241061,  0.50123301,\n",
              "        0.22884534,  0.39057452,  0.56588007,  0.41967133,  0.79724985,\n",
              "        0.9794589 ,  0.02610292,  0.15196329,  0.54341337,  0.35640892,\n",
              "        0.65552975,  0.19331239,  0.47539622,  0.54648683,  0.35823461,\n",
              "        0.33081903,  0.39186656,  0.21198564,  0.68665464,  0.6888775 ,\n",
              "        0.6366515 ,  0.33752995,  0.66857802,  0.58902766,  0.22811778,\n",
              "        0.76084873,  0.21153609,  0.20363755,  0.54695198,  0.67845937,\n",
              "        0.37016999,  0.2927544 ,  0.20667413,  0.46157479,  1.00933136,\n",
              "        0.49026147,  0.21272269,  0.33468555,  0.74134366,  0.79870981,\n",
              "        0.45371965,  0.33085854,  0.90258944,  0.41874118,  0.45791474,\n",
              "        0.68971594,  0.46895659,  0.70665003,  0.39421437,  0.06427933,\n",
              "        0.36057977,  0.34472467,  0.78726067,  0.37805489,  0.58587164,\n",
              "        0.25174825,  0.60884344,  0.6038052 ,  0.6840057 ,  0.60160482,\n",
              "        0.82217725,  0.32208508,  0.38385744,  0.63847955,  0.38323034,\n",
              "        0.56682853,  0.40692175,  0.38360894,  0.55862298,  0.37266982,\n",
              "        0.57966048,  0.51468499,  0.6419448 ,  0.71218801,  0.33091142,\n",
              "        0.20562107,  0.5625524 ,  0.44461891,  0.39220575,  0.65207315,\n",
              "        0.44742716,  0.46322947,  0.39918208,  0.63103643,  0.69415415,\n",
              "        0.50713634,  0.8620024 ,  0.15976291,  0.28161896,  0.32882039,\n",
              "        0.58029346,  0.84069617,  0.3494683 ,  0.72307548,  0.73251398,\n",
              "        0.49426544, -0.13832388,  0.52710958,  0.59042232,  0.30077506,\n",
              "        0.49426329,  0.39353455,  0.30590442,  0.07653051,  0.36378124,\n",
              "        0.21152589,  0.52611878,  0.73145993,  0.57028358,  0.65261181,\n",
              "        0.39285251,  0.39453896,  0.74179441,  0.75749698,  0.54970383,\n",
              "        0.38656965,  0.81932867,  0.10121971,  0.55778816,  0.39329211,\n",
              "        0.7386127 ,  0.54140441,  0.51429178,  0.28516418,  0.70360657,\n",
              "        0.49391946,  0.68472679,  0.75796845,  0.62962575,  0.69707632,\n",
              "        0.51618928,  0.85582809,  0.00180959,  0.3672307 ,  0.63518691,\n",
              "        0.48535854, -0.06555805,  0.430554  ,  0.50008563,  0.49423108,\n",
              "        0.63438128,  0.2986242 ,  0.43951681,  0.56199998,  0.36210343,\n",
              "        0.2176348 ,  0.31159712,  0.56127735,  0.45304249,  0.38149787,\n",
              "        0.46097759,  0.52338724,  0.39550765,  0.66221131,  0.40451048,\n",
              "        0.92807669,  0.38424908,  0.3323381 ,  0.74789034,  0.50733082,\n",
              "        0.31670776,  0.02082387,  0.37980014,  0.48367872,  0.31820025,\n",
              "        0.09361906,  0.30427277,  0.44988267,  0.41118915,  0.56647191,\n",
              "        0.13723078,  0.72639283,  0.64668459,  0.20253243,  0.4062506 ,\n",
              "        0.72394049,  0.46232874,  0.56144713,  0.47301225,  0.17888671,\n",
              "        0.80470263,  0.56391429,  0.53418291,  0.33161202,  0.56442643,\n",
              "        0.54170506,  0.84881308,  0.16890925,  0.68479139,  0.18453503,\n",
              "        0.79678901,  0.18759864,  0.50444695,  0.2739607 ,  0.94621589,\n",
              "        0.54636465,  0.60012937,  0.61574045,  0.52676337,  0.5685353 ,\n",
              "        0.30984543,  0.62698645,  0.32343842,  0.16938412,  0.21558236,\n",
              "        0.28677215,  0.65352475,  0.866445  ,  0.30193432,  0.59510974,\n",
              "        0.37685295,  0.51199411,  0.38761788,  0.68581069,  0.35141744,\n",
              "        0.81428409,  0.29032394,  0.58751508,  0.2837695 ,  0.35912707,\n",
              "        0.6308564 ,  0.55787772,  0.13953029,  0.50419882,  0.74905389,\n",
              "        0.50978864,  0.7323136 ,  0.03497934,  0.5334875 ,  0.7079951 ,\n",
              "        0.44172004,  0.52335281,  0.35175876,  0.30503372,  0.31283768,\n",
              "        0.37623732,  0.49306464,  0.49045604,  0.65992832,  0.63784127,\n",
              "        0.65870658,  0.32293362,  0.71423157,  0.95676521,  0.49447402,\n",
              "        0.54407472,  0.48478249,  0.45286279,  0.2223725 ,  0.73227456,\n",
              "        0.72026802,  0.31641931,  0.38128585,  0.7200292 ,  0.25764041,\n",
              "        0.71906083,  0.04279232,  0.2679503 ,  0.33630186,  0.52727925,\n",
              "        0.73281833,  0.66962651,  0.80535893,  0.76255111,  0.16875817,\n",
              "        0.37748293,  0.55860687,  0.38439737,  0.33968194,  0.50752271,\n",
              "        0.41647759,  0.39744592,  0.52459567,  0.17548344,  0.13866575,\n",
              "        0.16985585,  0.55363825,  0.50692672,  0.55098047,  0.6016277 ,\n",
              "        0.59501459,  0.56238328,  0.56413287,  0.71671179,  0.51906166,\n",
              "        0.69232005,  0.60460903,  0.44223291,  0.65071541,  0.58866828,\n",
              "        0.66409477,  0.65908839,  0.82851713,  0.43859541,  0.71645894,\n",
              "        0.54712824,  0.5003434 ,  1.12199047,  0.40174808, -0.01622079,\n",
              "        0.22354166,  0.41850948,  0.62200811,  0.56888741,  0.29999451,\n",
              "        0.49584085,  0.1467875 ,  0.72452201,  0.57519307,  0.60424168,\n",
              "        0.65444273,  0.66862615,  0.35256396,  0.21828365,  0.30936492,\n",
              "        0.52834227,  0.84570342,  0.97674357,  0.63463924,  0.45307395,\n",
              "        0.29056223,  0.46703579,  0.65230774,  0.25951417,  0.66329999,\n",
              "        0.58642359,  0.48882213,  0.37794423,  0.39072421,  0.62037944,\n",
              "        0.36202094,  0.75170297,  0.5959349 ,  0.53446975,  0.68544014,\n",
              "        0.34639751,  0.32947455,  0.58745068,  0.63900597, -0.13435207,\n",
              "        0.74218972,  0.42171351,  0.55799095,  0.60921184,  0.27589501,\n",
              "        0.32789478,  0.71809406,  0.78948034,  0.51432713,  0.29833858,\n",
              "        0.53517701,  0.55588518,  0.18774664,  0.48856941,  0.36123775,\n",
              "        0.55499603,  0.59241192,  0.62778397,  0.41634583,  0.89844193,\n",
              "        0.33673171,  0.49844502,  0.43699797,  0.64144542,  0.29567369,\n",
              "        0.22329442,  0.25690977,  0.28923916,  0.63472808,  0.66916043,\n",
              "        0.60402148,  0.62327986,  0.45389866,  0.14437759,  0.48743823,\n",
              "        0.87577946,  0.16984023,  0.74643593,  0.3683543 ,  0.1055817 ,\n",
              "        0.56651271,  0.48510042,  0.58746479,  0.21591845,  0.90439611,\n",
              "        0.23604356,  0.50969818,  0.64285463,  0.64992782,  0.42626647,\n",
              "        0.39391122,  0.72341334,  0.65205419,  0.3657252 ,  0.5140836 ,\n",
              "        0.53726955,  0.71725715,  0.33913713,  0.57072278,  0.49523035,\n",
              "        0.19239632,  0.32548452,  0.49797412,  0.35402877,  0.58790912,\n",
              "        0.60864996,  0.69310081,  0.26978693,  0.67992436,  0.70827114,\n",
              "        0.65845793,  0.55150296,  0.15634022,  0.95963623,  0.51699372,\n",
              "        0.49443703,  0.59882364,  0.19902237,  0.3243884 ,  0.35770584,\n",
              "        0.5325713 ,  0.44905252,  0.43924741,  0.36708679,  0.57445788,\n",
              "        0.46494035,  0.25979461,  0.55948409,  0.37269495,  0.49426679,\n",
              "        0.46943226,  0.50299477,  0.60282235,  0.1991258 ,  0.25242231,\n",
              "        0.64456381,  0.31992988,  0.30311295,  0.71208148,  0.39418371,\n",
              "        0.95320078,  0.27285985,  1.10090551,  0.06906976,  0.38799179,\n",
              "        0.173985  ,  0.50958233,  0.52719625,  0.46277185,  0.46332762,\n",
              "        0.47391904, -0.02187591,  0.11271669,  0.30137928,  0.47721821,\n",
              "        0.40794819,  0.51647327,  0.16923735,  0.52286992,  0.41736294,\n",
              "        0.48950301,  0.16373546,  0.58056099,  0.73103248,  0.39411983,\n",
              "        0.61345744,  0.72480178,  0.63692832,  0.39257443,  0.81205982,\n",
              "        0.62356178,  0.35685418,  0.55716413,  0.57404196,  0.5877356 ,\n",
              "        0.64779463,  0.43414379,  0.49993776,  0.27805999,  0.44144444,\n",
              "        0.38480732,  0.37784843,  0.39558451,  0.27953668,  0.40483791,\n",
              "        0.73430428,  0.59215332,  0.39963401,  0.77877828,  0.34817126,\n",
              "        0.59999606,  0.7290309 ,  0.85292672,  0.47998461,  0.58194698,\n",
              "        0.68871798,  0.15801098,  0.31069893,  1.07113328,  0.46028313,\n",
              "        0.52344024,  0.41182266,  0.5100816 ,  0.43814868,  0.49870668,\n",
              "        0.47636446,  0.58144905,  0.11660875,  0.48060279,  0.60657587,\n",
              "        0.76577917,  0.70817386,  0.67595376,  0.76638675,  0.56018941,\n",
              "        0.6454694 ,  0.54622524,  0.57089265,  0.61103867,  0.69888059,\n",
              "        0.6966713 ,  0.82756441,  0.48129673,  0.57870296,  0.6458404 ,\n",
              "        0.56717883,  0.36923766,  0.50344768,  0.72286287,  0.59918261,\n",
              "        0.22131838,  0.59754752,  0.54037322,  0.05114171,  0.29384447,\n",
              "        0.72953401,  0.41085967,  0.73312579,  0.15556914,  0.33735581,\n",
              "        0.89073149,  0.51976185,  0.40225812,  0.51687435,  0.4160713 ,\n",
              "        0.48242513,  0.22596491,  0.74072048,  0.29493333,  0.80088486,\n",
              "        0.56816757,  0.54751563,  0.226596  ,  0.20571298,  0.66915489,\n",
              "        0.34512883,  0.41131276,  0.20705611,  0.27291362,  0.41573336,\n",
              "        0.58404812,  0.40854915,  0.62878719,  1.00584609,  0.44534259,\n",
              "        0.47924592,  0.68084759,  0.79516881,  0.49261961,  0.40280909,\n",
              "        0.3935146 ,  0.13802617,  0.20238662,  0.15482985,  0.55098923,\n",
              "        0.4362674 ,  0.45504395,  0.71494897,  0.77665936,  0.77116706,\n",
              "        0.47482632,  0.14218993,  0.50782073,  0.41575989,  0.97026825,\n",
              "        0.59273022,  0.81722859,  0.10068901,  0.53192698,  0.39033358,\n",
              "        0.53675204,  0.45415614,  0.27648184,  0.46387066,  0.51606033,\n",
              "        0.41357   ,  0.41153062,  0.77012344,  0.71762091,  0.20023103,\n",
              "        0.57505587,  0.36268725,  0.42511724,  0.49615558,  0.61194914,\n",
              "        0.84879912,  0.66873394,  0.49785664,  0.86863854,  0.45463223,\n",
              "        0.36716924,  0.44913224,  0.4535017 ,  0.68575291,  0.58517144,\n",
              "        0.40181401,  0.52527434,  0.45125533,  0.54847021,  0.37688703,\n",
              "        0.4526939 ,  0.6195948 ,  0.78836875,  0.37295948,  0.54765319,\n",
              "        0.60922518,  0.38065529,  0.38287271,  0.4321168 ,  0.67596214,\n",
              "        0.17582815,  0.50613928,  0.28669324,  0.64766471,  0.95333839,\n",
              "        0.45530625,  0.35644531,  0.36708268,  0.89871865,  0.60978891,\n",
              "        0.55416073,  0.09720052,  0.48323457,  0.68485151,  0.72039768,\n",
              "        0.64621563,  0.17305349,  0.59419961,  0.66623728, -0.02117679,\n",
              "        0.3431186 ,  0.07717425,  0.66694399,  0.57446649,  0.37111491,\n",
              "        0.5381673 ,  0.49905813,  0.36428607,  0.99924254,  0.54972219,\n",
              "        0.83511418,  0.63205419,  0.54242052,  0.45087674,  0.57431683,\n",
              "        0.09807407,  0.50967607,  0.66628462,  0.44304328,  0.54738554,\n",
              "        0.37451864,  0.24209829,  0.63048502,  0.31316481,  0.61374035,\n",
              "        0.35696387,  0.42523362,  0.85149545,  0.88487565,  0.72366309,\n",
              "        0.27669895,  0.32175171,  0.8527729 ,  0.50434625,  0.57346007,\n",
              "        0.55778486,  0.59623284,  0.501794  ,  0.60610733,  0.44789121,\n",
              "        0.371153  ,  0.86583212,  0.96437989,  0.61193655,  0.31685558,\n",
              "        0.69976399,  0.93993282,  0.52004292,  0.52499461,  0.52514223,\n",
              "        0.40730548,  0.90412591,  0.56575962,  0.61333826,  0.11084072,\n",
              "        0.35011677,  0.15007967,  0.2644106 ,  0.3622631 ,  0.76197977,\n",
              "        0.88087463,  0.49219555,  0.35084537,  0.63209315,  0.64433372,\n",
              "        0.55507286,  0.40781343,  0.51410303,  0.45557812,  0.54799363,\n",
              "        0.36150651,  0.36131235,  0.46858716,  0.66831279,  0.47682132,\n",
              "        0.4127879 ,  0.55130137,  0.09242169,  0.58077305,  0.39469453,\n",
              "        0.73241301,  0.30302183,  0.73874511,  0.52730615,  0.14901599,\n",
              "        1.00208149,  0.56738455,  0.32059171,  0.71806786,  0.38826183,\n",
              "        0.57840625,  0.78447825,  0.6405289 ,  0.35686922,  0.47107546,\n",
              "        0.51651767,  0.23350819,  0.4546762 ,  0.45366757,  0.61906118,\n",
              "        0.20166877,  0.34923638,  0.53874546,  0.4068699 ,  0.44447058,\n",
              "        0.54795431,  0.76346464,  0.60664139,  0.56678973,  0.13661665,\n",
              "        0.61695979,  0.39296159,  0.26147188,  0.50592444,  0.6549155 ,\n",
              "        0.59908445,  0.49993728,  0.36928619,  0.5640278 ,  0.4842113 ,\n",
              "        0.40887712,  0.63232847,  0.72926758,  0.65992718,  0.52020363,\n",
              "        0.15362398,  0.73474348,  0.51844125,  0.28328042,  0.36423712,\n",
              "        0.73478173,  0.66666127,  0.71351442,  0.53505624,  0.57235305,\n",
              "        0.51860107,  0.34593017,  0.40823476,  0.38382388,  0.76610139,\n",
              "        0.5412877 ,  0.74585919,  0.68964824,  0.33509994,  0.41170908,\n",
              "        0.69449735,  0.15294726,  0.23844669,  0.49638445,  0.87671289,\n",
              "        0.40082784,  0.58982006,  0.38305168,  0.62346477,  0.33461573,\n",
              "        0.74494731,  0.61778509,  0.18271353,  0.54711837,  0.78128391,\n",
              "        0.50049382,  0.28774163,  0.54139532,  0.4779703 , -0.06237483,\n",
              "        0.40444802,  0.70181648,  0.55816048,  0.53213482,  0.30035412,\n",
              "        0.42690722,  0.59885629,  0.80092968,  0.72063906,  0.36347107,\n",
              "        0.37675907,  0.53294131,  0.67189964,  0.40267657,  0.31617423,\n",
              "        0.7600727 ,  0.55656745,  0.79790112,  0.64516844,  0.49603048,\n",
              "        0.72016392,  0.47649161,  0.7232844 ,  0.45764233,  0.4994345 ,\n",
              "        0.7642738 ,  0.50970888,  0.89637411,  0.6512226 ,  0.56166376,\n",
              "        0.80781548,  0.553676  ,  0.38525178,  0.33232025,  0.13785926,\n",
              "        0.23519915,  0.2159165 ,  0.53681564,  0.68815709,  0.57230105,\n",
              "       -0.04642691,  0.42850052,  0.76141156,  0.76907691,  0.20990893,\n",
              "        0.68223829,  0.46254391,  0.2569081 ,  0.3657872 ,  0.18775501])"
            ]
          },
          "metadata": {},
          "execution_count": 31
        }
      ]
    },
    {
      "cell_type": "code",
      "source": [
        "sns.histplot(s,kde=True)"
      ],
      "metadata": {
        "colab": {
          "base_uri": "https://localhost:8080/",
          "height": 282
        },
        "id": "7ftkk4okRwEF",
        "outputId": "1b70e732-5e40-4237-8cf3-55873aa62b7b"
      },
      "execution_count": 32,
      "outputs": [
        {
          "output_type": "execute_result",
          "data": {
            "text/plain": [
              "<Axes: ylabel='Count'>"
            ]
          },
          "metadata": {},
          "execution_count": 32
        },
        {
          "output_type": "display_data",
          "data": {
            "text/plain": [
              "<Figure size 432x288 with 1 Axes>"
            ],
            "image/png": "[encoded data removed]"
          },
          "metadata": {
            "needs_background": "light"
          }
        }
      ]
    },
    {
      "cell_type": "code",
      "source": [
        "mu, sigma = 3.0, 1.0\n",
        "p=np.random.lognormal(mu,sigma,1000)"
      ],
      "metadata": {
        "id": "cEECiZrYR-mD"
      },
      "execution_count": 34,
      "outputs": []
    },
    {
      "cell_type": "code",
      "source": [
        "p"
      ],
      "metadata": {
        "colab": {
          "base_uri": "https://localhost:8080/"
        },
        "id": "Q1al4rE0SSL1",
        "outputId": "07937d94-b937-43d5-962f-ee14f4f16cb0"
      },
      "execution_count": 35,
      "outputs": [
        {
          "output_type": "execute_result",
          "data": {
            "text/plain": [
              "array([ 15.83282447,  31.90110988,  12.91825804,  45.90891961,\n",
              "        11.82915526,   5.25605814,  13.41991402,   1.96669541,\n",
              "        20.76628425,  11.36850612,   5.75380267,  29.11661806,\n",
              "        10.22116973,   4.93643764,   7.73895641,  29.28086345,\n",
              "        13.39355591,  39.73834816,  11.22959448,  47.59541788,\n",
              "         6.0021847 ,  40.31617062,   4.61535982,  22.46869979,\n",
              "        90.95290289,  23.45345798,  27.15132578,   7.40979264,\n",
              "        20.80115257,  11.01137318,  40.36224599,   9.63734588,\n",
              "        38.40447293, 188.42858085,   9.72485471,  27.5050394 ,\n",
              "         4.3095384 ,   5.49419254,  14.12312734,   8.18521251,\n",
              "        36.48671636,   8.86304124,  40.84351846,  20.20550824,\n",
              "        26.09060256,  84.71446462,  12.97233667,  58.73345294,\n",
              "         6.27951552, 447.32237952,   5.67102355,  10.19682316,\n",
              "         8.55592049,  32.7544449 ,  72.2275118 ,   8.803376  ,\n",
              "         7.30385658,  28.4098512 ,  22.08514779, 115.9665842 ,\n",
              "        10.44022772,  25.28380195,   5.89138076,   4.86946885,\n",
              "        14.49661206,  14.76700755,  21.14172518,  15.21005575,\n",
              "        13.01019997,  40.81659562,   6.99160619,  32.26252706,\n",
              "        24.52946883,  28.668815  ,  26.24987097,  56.14268071,\n",
              "       110.94371273,  13.34012356,  36.29315647,  48.2640606 ,\n",
              "        29.0786231 ,  12.73709273,   6.09385984,  16.64477728,\n",
              "        12.13910778,  18.9052698 ,  12.87957823,  24.99247891,\n",
              "       267.04147376,  63.99378073,  39.03637132,  51.38724397,\n",
              "        27.7859418 ,   3.09385397,  43.07699826,  12.75366466,\n",
              "        12.53550018,   7.18928455,   5.19348163,   7.8209475 ,\n",
              "        20.28533023,  16.10693499,   4.99434716,   4.0766127 ,\n",
              "        10.4011984 ,  20.37515725,  14.44101381,   9.70550258,\n",
              "        17.01512338,   5.40283131,   8.45022935,  87.32496909,\n",
              "        28.76246905,  38.77191322,  13.26848962,   8.65377988,\n",
              "       111.48990654,  46.41156929,   7.86924102,  12.87517891,\n",
              "         6.2351914 ,  12.82843659,  13.5848408 ,  33.90950428,\n",
              "       154.89350065,  21.48665529,  20.31057631,  38.09607543,\n",
              "        11.73611715,  30.34839846,  38.67343486,  58.17074971,\n",
              "        50.6309887 , 183.27810662,  26.09002178,  35.7468839 ,\n",
              "        42.06778697,  18.7910355 ,  26.1175506 ,  22.45757798,\n",
              "        86.82849254,  26.7495849 ,  54.74697216,  12.83200539,\n",
              "        23.90652509,   8.70588857,  31.01874925,  49.71416805,\n",
              "        60.56692853,  15.33833326,  23.80281963,   4.35941811,\n",
              "         8.74963948,   8.25312884, 121.95714358,  20.61724886,\n",
              "        19.04873068,  16.50031509,  39.34567593,  12.32002051,\n",
              "        57.10912559,   6.84921684,  10.08509716,  19.20237517,\n",
              "        48.57292812,  33.40811334,  32.01181716,   4.91412164,\n",
              "        15.51291355,  14.17935205,  27.575444  ,  16.52792413,\n",
              "       127.59762544,  81.63558153,   3.1388712 ,  30.40490272,\n",
              "        42.15927549,  28.85918953,   3.04888427,  20.30200087,\n",
              "        36.88075203,  54.68557737, 368.72363239,  59.86991317,\n",
              "         8.19866434,  68.34242861,  61.83849928,  98.90536194,\n",
              "        21.96746334,  18.90540807,  22.9183854 ,  17.0570187 ,\n",
              "        15.79765723,  35.91103134,  15.14033388,  23.79558863,\n",
              "        28.87537955,   7.81755855,   4.27603984,   4.68865371,\n",
              "         4.74395309,   9.35597396,  11.56627788, 201.13426097,\n",
              "        29.58393691,  14.62209603,  92.84720683,   8.35121134,\n",
              "        39.71549995,  16.42935606,   3.23012205,   3.83344879,\n",
              "       144.22658291,  86.73998231,  30.91799351,  19.46054831,\n",
              "        58.56004153, 211.68609389,  29.61706063,  32.05406202,\n",
              "        19.25131138,  23.09726022,  13.19550066,   7.4602691 ,\n",
              "        65.75964752,  55.19317116,  11.27230583,  13.97389337,\n",
              "         9.17078351,   9.99516119,  45.53707521,  36.59786998,\n",
              "        12.0230773 ,  10.45587272,   2.5204969 ,  15.3961429 ,\n",
              "        19.37467894,  39.72148487,  20.87266522,  40.50691507,\n",
              "        94.61167219,  19.31423865,  21.60319125,  25.62597309,\n",
              "        14.24781803,  17.33535307,   8.85492516,  55.5145105 ,\n",
              "        44.89841194,  17.90455928,  10.28507606,  42.60241885,\n",
              "         6.69791204,  54.20086638,  18.70640113,  20.68028718,\n",
              "        70.20205783,  30.54501224,  13.40526084,  26.62516504,\n",
              "        11.20892495,   6.53664372,  63.75830592,  23.18499847,\n",
              "         3.90678812,  27.5878292 ,   5.87842943,  18.57196563,\n",
              "        18.21173026,   3.68374419,  62.15234573,   3.63645629,\n",
              "        19.04980652,   5.67340796,   5.81367865,  18.08720733,\n",
              "        34.29260054,   6.72438011, 214.65571407, 204.22552996,\n",
              "         5.35592778,  67.1825669 ,  41.50833398,   8.5696433 ,\n",
              "         9.56270571,   9.27504884,  57.94458092,  13.56883341,\n",
              "         9.56803559,  26.79578264,   8.59846854,  12.72732654,\n",
              "        11.86123318,   3.97829101,   7.39732172,   4.14076532,\n",
              "         7.27251433,  88.14967515,  19.61414735,  86.80393592,\n",
              "        42.44313046,   4.18584699,  13.80732502,  21.21180671,\n",
              "        14.23999748,  23.63429946,  25.72550004,   1.16125738,\n",
              "         3.81653418,  28.7431339 ,  17.19599659,  26.67918613,\n",
              "         5.48114185,   5.93486559,  23.31386307,  14.74826053,\n",
              "        51.69337732,  43.83069446,  10.08850048,   6.03855867,\n",
              "        14.08071   ,  40.73930798, 174.24682168,   1.09662679,\n",
              "         7.90049829,   6.14131137,  35.70221155,  24.67305972,\n",
              "        10.95750757,  21.55980095,  29.3345384 ,  34.3810205 ,\n",
              "        20.33220492,  38.43292967, 121.24548104,  32.54172117,\n",
              "        52.73254028,   5.26343849,  12.64833901,  13.61041237,\n",
              "        16.26215436,  11.0260579 ,  13.21338529,  40.5788439 ,\n",
              "        22.14972698,  12.79483537,   7.69029724,   9.62513951,\n",
              "        39.9248619 ,   8.94978166,  13.09793001,  29.83243194,\n",
              "         3.53965572,  17.24894281,  22.36587777,  22.63055471,\n",
              "         9.88051873, 295.23474956,  99.8739134 ,  44.25540814,\n",
              "         6.66136492,  14.07686704,  16.84299299,  43.24007118,\n",
              "        12.25074533,  16.24226988,  14.66766499,   0.87654208,\n",
              "        24.47602681,   3.37998605,  15.72429872,  16.95021324,\n",
              "        89.65029611,  36.69067909, 143.11994206,  11.66031215,\n",
              "       100.67044444,  10.57652325,  10.04807236,  48.35374372,\n",
              "        32.90891034,  22.11890276,  13.45637653,  20.17185357,\n",
              "        30.71777146,   3.7112055 ,  26.08717069,  69.55674083,\n",
              "        51.98883097,  25.00946386,  27.05496266,   5.87396603,\n",
              "        69.9914279 ,  37.98321146,  21.68818369,  19.96186166,\n",
              "        15.48176209,   7.50832069,  15.57155217,   9.22143668,\n",
              "        59.15409726,   6.93354356,  45.96397376,  10.35441708,\n",
              "        14.72739593,   9.46016819,   6.64585582,   9.40339206,\n",
              "        29.80233831,  51.698897  ,  63.84409452,   7.84164399,\n",
              "        24.05148862,  23.82756894,   3.56988705,  81.46182187,\n",
              "        11.33315187,  11.56352543,  18.96394721,  14.76726768,\n",
              "         3.64097719,  18.77888961,  60.40699184, 115.02376525,\n",
              "        38.45700282,  59.12917783,   1.02075891,  10.48016395,\n",
              "        11.34498318,  18.82183075,  11.13119545,  43.99596051,\n",
              "        54.71483053,  98.30566752,  41.46953932,  22.04258998,\n",
              "        49.87907042,  35.82087274,   3.0912723 ,  28.34343763,\n",
              "        25.52167266,  25.41340345,  83.55082479,  29.24857122,\n",
              "        44.85685668,   6.93642839,   4.20845724,  70.32681555,\n",
              "        33.24306743,  47.10298351,  10.48949602,   7.53675211,\n",
              "        30.30716641,  46.82438579,  50.02502168,  36.30699194,\n",
              "         5.53473112,  85.67877711,  17.88321808,  23.56107652,\n",
              "       369.64195873,  11.82071683,   5.5142915 ,  75.92001661,\n",
              "         8.41984496,  11.26444093,   1.96604154,  75.98662578,\n",
              "        14.20797422,  23.80438518,  36.23729478,   9.38812085,\n",
              "        29.20417733,  39.56809847,   2.28150651,  26.62513441,\n",
              "         4.19316757,  72.11120786,  25.52769016,   5.42439303,\n",
              "        22.24345357,   7.08542356,   5.65278345,   5.95179737,\n",
              "        12.75806063,  80.94134163,  31.46529556,  76.32002323,\n",
              "        15.50065557,  13.0104106 ,  15.44014362,  34.6616344 ,\n",
              "        32.09536484,  44.84565341,   9.03374447,  85.10970056,\n",
              "        31.72402995,  87.54770462,  11.72424614,  12.76866084,\n",
              "        14.25116958,  47.57981347,  10.09845308,  67.91226148,\n",
              "         6.03745603,  40.67117565, 115.56570385,   2.41819431,\n",
              "       211.18140155,  11.56712952,  26.33863836,   3.1340313 ,\n",
              "        36.57805684, 135.55257428,  10.92989039,  30.14381699,\n",
              "        30.49913028,  36.62957452,  19.17028147, 134.00977898,\n",
              "        10.43380108,   4.97803933, 179.03766834,  13.06763045,\n",
              "         8.40893541,  27.6983801 ,   8.79476374,  33.90892665,\n",
              "         7.20321791,   9.10620437,  50.62666832,  11.40798874,\n",
              "         8.24347004,  23.03109455,  26.55494692,  89.38499216,\n",
              "         4.70029359,  15.66694244,  29.21766038,  11.98927109,\n",
              "        31.06985165,  60.85990195,  65.93310937,  51.98163902,\n",
              "        23.6584419 ,  14.72294373,  28.98982756,  69.36195405,\n",
              "         9.24070886,  23.78751129,  29.22571766,  59.7360216 ,\n",
              "        38.04366104,  37.33322359,  10.16250215,  36.48128936,\n",
              "        21.58517477,  14.48900266,  16.16456972,  13.14713113,\n",
              "        32.82016904,  24.09558306,   9.17476255,  17.13677681,\n",
              "        35.5658188 ,  20.59636545,  10.57880338,   9.02280503,\n",
              "        20.31324975, 117.31205584,   3.78445719, 127.19000851,\n",
              "        43.40963703,   8.99306635,  37.94741031,  26.2181662 ,\n",
              "        22.23400199,  92.37926605,  18.02617327,   9.3159862 ,\n",
              "         9.91533478,  50.3823222 ,  35.98611878,  24.31306477,\n",
              "        24.05966231,  22.54118551, 132.96008522,   8.41939716,\n",
              "       116.51724636,  52.82282908,  31.38434169,  43.30036088,\n",
              "        24.8981393 ,   6.94031364,   3.84808044,   4.29411661,\n",
              "         6.46338912,  11.98614507,   5.05421158,   6.46226903,\n",
              "        75.27159764,  30.48184779,   8.57384935,  33.70243953,\n",
              "         2.12395157,  46.40988213,  48.21360747,  15.26177782,\n",
              "         3.75253659,  23.47462438, 105.67406989,  20.92080896,\n",
              "         2.98809909,  12.57089516,  40.73642183,  14.96429806,\n",
              "        25.03127822,  33.27249755,  22.50765782,  81.96193031,\n",
              "        52.33270865,  42.02328491,   6.70537874,   6.29369415,\n",
              "       153.41255085,  28.62224898,  40.40505844,  26.65251219,\n",
              "         6.57859221,  17.02141234,  25.58480793,  39.82296383,\n",
              "        14.97114164,   9.02035391,   6.84601959,  50.18134052,\n",
              "       117.03676617, 144.96109246,  29.52235925,  26.76586681,\n",
              "        45.09577486,  17.35999394,  89.28416087,   2.92793297,\n",
              "         5.85556331,  64.334535  ,  67.23454826,   4.00616295,\n",
              "         6.66051601,  24.70344702,  12.02595538,  20.01034047,\n",
              "       103.20337795,  15.73502497,  82.43270622,  12.90925121,\n",
              "        17.26034117,  22.61657222,   7.17376029,   7.04702449,\n",
              "         5.68032387,   5.70183618,   3.18908691,  51.55506143,\n",
              "        48.80485104,  10.9966103 ,  15.61206862,  26.75974286,\n",
              "        30.06623126,  62.04565355, 259.3609546 ,  23.72377525,\n",
              "        42.95066503,  67.36835336,  44.73939806,   1.97792245,\n",
              "        78.1032875 ,  11.53358356,   7.34325008,  78.70722469,\n",
              "        23.62759866,  42.79258063,  38.62103627,  56.51298937,\n",
              "        13.54841657,   3.49179635, 215.70524985,  31.94821393,\n",
              "        56.24497698,  12.53203147,  24.0054087 ,  22.46952299,\n",
              "        25.43992752,  17.86164911,  17.58372303,  11.92214841,\n",
              "         7.68484655,  13.84102966,   7.10706018,   1.19269819,\n",
              "        13.88623885, 115.44087631, 120.07727568,  30.71426255,\n",
              "         5.9978024 ,  21.10304713, 182.99019387,  11.08214775,\n",
              "        26.83042753,  95.85329992,  24.86204067,  75.46551164,\n",
              "        41.84897222,  59.88493543,  31.93260689,   6.65942086,\n",
              "         6.90309261,   3.09509723,   2.21341599, 170.68433128,\n",
              "        13.04766233,  33.63240998,  17.50408452,  12.42612321,\n",
              "        98.97025756,   8.76097329,  14.92342094,  22.5086445 ,\n",
              "         9.80130689,   3.31405986,  13.52468046,  23.66328411,\n",
              "         8.53728814,  25.01808964,  79.81958014,  33.56457916,\n",
              "         5.33513124,  18.03317729,  15.33565575,  60.14534895,\n",
              "        18.13706917,  45.11074421,  26.21130152,  97.34634419,\n",
              "         8.30039028,   3.41457972,   3.85794426,  14.30382538,\n",
              "         6.04899886,   5.19755665,  31.01826763,  15.5103723 ,\n",
              "        18.14120121,   7.0145981 ,  33.60432137,  50.15103223,\n",
              "         3.87880166,  21.94106542,   2.72975194,   5.42229994,\n",
              "       118.2987759 ,  30.63789505,  53.74287101, 230.32659839,\n",
              "        93.86702545,  28.92076695,  15.29731409,  17.36314983,\n",
              "        16.64523889,   1.26771623,  34.82763288,   7.45248314,\n",
              "        36.62886642,  15.16922657,  84.10031745,   1.23637976,\n",
              "         6.15585178, 102.95088123,  20.56391658,  32.19871925,\n",
              "       110.32349928,  11.86467869,  15.94581514,   6.02658029,\n",
              "        31.80112041,  27.34877232,  27.41410413,   7.90486206,\n",
              "        44.51229339,  33.0831116 ,  70.3297843 ,  23.91219017,\n",
              "        25.2594733 ,  28.67543427,  16.82009601,   8.82471565,\n",
              "        23.44865161,  29.75252866,   1.92319742,   3.02502037,\n",
              "        27.54286569,  33.63570876,   9.40066927,   7.25395261,\n",
              "        11.19282442,  11.55150628,   5.22279121,  17.9372312 ,\n",
              "        18.0848721 ,  28.52901252,  30.35163456,   6.62411818,\n",
              "        20.9856445 ,  22.38801107,   6.91140703,  16.16664709,\n",
              "        27.8710693 ,  97.66264473,   7.79566765,  40.28525974,\n",
              "        49.24842916,   3.14451194,  19.69675947,  61.74287305,\n",
              "        33.85504598,  26.53992056,   7.09538501,  98.10841419,\n",
              "        16.99275749,  33.3877731 , 236.70082835,  26.10768829,\n",
              "        45.96298401,   5.31835982,  39.43534251,  10.09542528,\n",
              "         5.53794748,  35.5967162 ,  26.60690897,  12.31745506,\n",
              "         9.61812015, 132.34891591,   6.11341306, 222.35435729,\n",
              "        39.81406933,  12.45264417,  14.42578167,  26.34396341,\n",
              "         3.35264941,   5.38855245,  45.35524163,  24.18191759,\n",
              "        26.92180213,  16.5303597 ,  56.790089  ,   9.05797158,\n",
              "        57.30832143,  10.26923859,  26.66813533, 211.64449097,\n",
              "         5.16712912,   6.62292499,  63.9841766 ,  46.71439902,\n",
              "        12.47349636,  14.57675002,  45.82139946, 171.33595489,\n",
              "         4.05944411,  16.08371288,  12.59918746, 134.94662625,\n",
              "         8.9039153 ,  15.09572894,  19.5085801 ,  61.08171277,\n",
              "        11.8478526 ,  35.69971096,  92.83378046,  28.27225293,\n",
              "        22.58028178,   8.40150548,  15.38565855,   9.64487109,\n",
              "        15.94939819,  99.90636181, 111.72897616,   6.70668039,\n",
              "        39.53413867,   7.55050139, 123.67624996,  15.89355205,\n",
              "        13.71219158,  33.50043127,   4.53625761,  18.97960639,\n",
              "        20.44403674,   3.95069129,  56.70814493,  11.79900741,\n",
              "        45.33187605,  10.10349299,   7.14927786,  12.3797063 ,\n",
              "        17.25972749,  13.91179034,  13.05551766,  58.19759935,\n",
              "        76.51374317,  27.26301842,  47.57754377,   7.47304666,\n",
              "         7.14381492,   7.47752358,  57.88001689,  30.26201223,\n",
              "         6.74731835,  11.83216571,   5.1728807 ,   3.93496435,\n",
              "         8.82998878,  17.67069088,  24.36352759,  55.61911561,\n",
              "        30.47448012,  39.28087136,  35.26111212,  53.74921216,\n",
              "        25.17917139,   7.61877167,  15.06519035,  67.37017082,\n",
              "         3.59648277,  14.77244504,  19.17012279,  41.46967459,\n",
              "        89.23233038,  16.50293588,  14.85936624,  24.97764382,\n",
              "        33.61445906,  21.95754504,  24.94296791,  17.93154369,\n",
              "        12.17568555,  27.85658084,   1.68436919,  19.30921749,\n",
              "        26.58615803,  47.55188286,  15.58202133,  42.35871746,\n",
              "        11.32690108,  59.54231717, 175.78702691,   4.94622749,\n",
              "         4.78408591,  13.58568335,  47.51024847,   4.95428226,\n",
              "        37.88885658,   3.52243403,  16.93956255,   1.01128311,\n",
              "       111.98929452,  17.78543288,  19.71585588,  36.73387689,\n",
              "        59.53533744,   7.77698665, 111.59488196,  11.51504585,\n",
              "        33.42463708,  16.10222773,   5.63488947,  46.60581421,\n",
              "        93.75957722,   8.19525574,   3.96006417,  35.34067913,\n",
              "        10.69169314,  22.77049664,  12.63194689,  10.34832084,\n",
              "         2.97437684,  52.33977931,  22.75745628,  11.84263895,\n",
              "        15.20940396,  13.4124611 ,   9.75924965,  12.30125057,\n",
              "        13.15736389,  15.22738898,  12.00744736,   6.2540305 ,\n",
              "        46.59990721,  19.06721384,  20.14820728,  17.82702545])"
            ]
          },
          "metadata": {},
          "execution_count": 35
        }
      ]
    },
    {
      "cell_type": "code",
      "source": [
        "sns.histplot(p,kde=True)"
      ],
      "metadata": {
        "colab": {
          "base_uri": "https://localhost:8080/",
          "height": 282
        },
        "id": "pmB1HuhaSZSg",
        "outputId": "518b64ee-8776-4841-97f8-3c0c3ba41b8f"
      },
      "execution_count": 36,
      "outputs": [
        {
          "output_type": "execute_result",
          "data": {
            "text/plain": [
              "<Axes: ylabel='Count'>"
            ]
          },
          "metadata": {},
          "execution_count": 36
        },
        {
          "output_type": "display_data",
          "data": {
            "text/plain": [
              "<Figure size 432x288 with 1 Axes>"
            ],
            "image/png": "[encoded data removed]"
          },
          "metadata": {
            "needs_background": "light"
          }
        }
      ]
    },
    {
      "cell_type": "code",
      "source": [
        "sns.histplot(np.log(p),kde=True)"
      ],
      "metadata": {
        "colab": {
          "base_uri": "https://localhost:8080/",
          "height": 282
        },
        "id": "NS3eCCupSgjL",
        "outputId": "fb937e75-8705-4fe1-94af-28022cb2d77f"
      },
      "execution_count": 37,
      "outputs": [
        {
          "output_type": "execute_result",
          "data": {
            "text/plain": [
              "<Axes: ylabel='Count'>"
            ]
          },
          "metadata": {},
          "execution_count": 37
        },
        {
          "output_type": "display_data",
          "data": {
            "text/plain": [
              "<Figure size 432x288 with 1 Axes>"
            ],
            "image/png": "[encoded data removed]"
          },
          "metadata": {
            "needs_background": "light"
          }
        }
      ]
    },
    {
      "cell_type": "code",
      "source": [
        "data"
      ],
      "metadata": {
        "colab": {
          "base_uri": "https://localhost:8080/"
        },
        "id": "775pMjAMStBA",
        "outputId": "cfe8c6dc-5136-45ff-fe2e-823f903c8b59"
      },
      "execution_count": 38,
      "outputs": [
        {
          "output_type": "execute_result",
          "data": {
            "text/plain": [
              "[23, 24, 32, 45, 12, 43, 67, 45, 32, 56, 32]"
            ]
          },
          "metadata": {},
          "execution_count": 38
        }
      ]
    },
    {
      "cell_type": "code",
      "source": [
        "import matplotlib.pyplot as plt\n",
        "import scipy.stats as stat\n",
        "import pylab\n",
        "def plot_data(sample):\n",
        "    plt.figure(figsize=(10,6))\n",
        "    plt.subplot(1,2,1)\n",
        "    sns.histplot(sample,kde=True)\n",
        "    plt.subplot(1,2,2)\n",
        "    stat.probplot(sample,dist='norm',plot=pylab)\n",
        "    plt.show()"
      ],
      "metadata": {
        "id": "atGRbgjPSy7A"
      },
      "execution_count": 39,
      "outputs": []
    },
    {
      "cell_type": "code",
      "source": [
        "plot_data(np.log(p))"
      ],
      "metadata": {
        "colab": {
          "base_uri": "https://localhost:8080/",
          "height": 404
        },
        "id": "SwxkoUymS5BZ",
        "outputId": "48ca43a3-5fd5-46ee-a178-f849262fe57d"
      },
      "execution_count": 40,
      "outputs": [
        {
          "output_type": "display_data",
          "data": {
            "text/plain": [
              "<Figure size 720x432 with 2 Axes>"
            ],
            "image/png": "[encoded data removed]"
          },
          "metadata": {
            "needs_background": "light"
          }
        }
      ]
    },
    {
      "cell_type": "code",
      "source": [
        "data3=pd.read_csv(\"https://raw.githubusercontent.com/sunnysavita10/Statistics_With_Python/main/Titanic.csv\")"
      ],
      "metadata": {
        "id": "2cc_eGMITE9V"
      },
      "execution_count": 41,
      "outputs": []
    },
    {
      "cell_type": "code",
      "source": [
        "!pip install pandas-profiling"
      ],
      "metadata": {
        "colab": {
          "base_uri": "https://localhost:8080/"
        },
        "id": "yPYIzmNLTNRv",
        "outputId": "1fb612a6-6fcb-46bf-93d4-dd29a71375fa"
      },
      "execution_count": 42,
      "outputs": [
        {
          "output_type": "stream",
          "name": "stdout",
          "text": [
            "Looking in indexes: https://pypi.org/simple, https://us-python.pkg.dev/colab-wheels/public/simple/\n",
            "Requirement already satisfied: pandas-profiling in /usr/local/lib/python3.9/dist-packages (3.2.0)\n",
            "Requirement already satisfied: visions[type_image_path]==0.7.4 in /usr/local/lib/python3.9/dist-packages (from pandas-profiling) (0.7.4)\n",
            "Requirement already satisfied: numpy>=1.16.0 in /usr/local/lib/python3.9/dist-packages (from pandas-profiling) (1.22.4)\n",
            "Requirement already satisfied: htmlmin>=0.1.12 in /usr/local/lib/python3.9/dist-packages (from pandas-profiling) (0.1.12)\n",
            "Requirement already satisfied: markupsafe~=2.1.1 in /usr/local/lib/python3.9/dist-packages (from pandas-profiling) (2.1.2)\n",
            "Requirement already satisfied: joblib~=1.1.0 in /usr/local/lib/python3.9/dist-packages (from pandas-profiling) (1.1.1)\n",
            "Requirement already satisfied: tangled-up-in-unicode==0.2.0 in /usr/local/lib/python3.9/dist-packages (from pandas-profiling) (0.2.0)\n",
            "Requirement already satisfied: pandas!=1.0.0,!=1.0.1,!=1.0.2,!=1.1.0,>=0.25.3 in /usr/local/lib/python3.9/dist-packages (from pandas-profiling) (1.4.4)\n",
            "Requirement already satisfied: pydantic>=1.8.1 in /usr/local/lib/python3.9/dist-packages (from pandas-profiling) (1.10.7)\n",
            "Requirement already satisfied: missingno>=0.4.2 in /usr/local/lib/python3.9/dist-packages (from pandas-profiling) (0.5.2)\n",
            "Requirement already satisfied: multimethod>=1.4 in /usr/local/lib/python3.9/dist-packages (from pandas-profiling) (1.9.1)\n",
            "Requirement already satisfied: requests>=2.24.0 in /usr/local/lib/python3.9/dist-packages (from pandas-profiling) (2.27.1)\n",
            "Requirement already satisfied: seaborn>=0.10.1 in /usr/local/lib/python3.9/dist-packages (from pandas-profiling) (0.12.2)\n",
            "Requirement already satisfied: PyYAML>=5.0.0 in /usr/local/lib/python3.9/dist-packages (from pandas-profiling) (6.0)\n",
            "Requirement already satisfied: tqdm>=4.48.2 in /usr/local/lib/python3.9/dist-packages (from pandas-profiling) (4.65.0)\n",
            "Requirement already satisfied: jinja2>=2.11.1 in /usr/local/lib/python3.9/dist-packages (from pandas-profiling) (3.1.2)\n",
            "Requirement already satisfied: scipy>=1.4.1 in /usr/local/lib/python3.9/dist-packages (from pandas-profiling) (1.10.1)\n",
            "Requirement already satisfied: matplotlib>=3.2.0 in /usr/local/lib/python3.9/dist-packages (from pandas-profiling) (3.7.1)\n",
            "Requirement already satisfied: phik>=0.11.1 in /usr/local/lib/python3.9/dist-packages (from pandas-profiling) (0.12.3)\n",
            "Requirement already satisfied: networkx>=2.4 in /usr/local/lib/python3.9/dist-packages (from visions[type_image_path]==0.7.4->pandas-profiling) (3.0)\n",
            "Requirement already satisfied: attrs>=19.3.0 in /usr/local/lib/python3.9/dist-packages (from visions[type_image_path]==0.7.4->pandas-profiling) (22.2.0)\n",
            "Requirement already satisfied: imagehash in /usr/local/lib/python3.9/dist-packages (from visions[type_image_path]==0.7.4->pandas-profiling) (4.3.1)\n",
            "Requirement already satisfied: Pillow in /usr/local/lib/python3.9/dist-packages (from visions[type_image_path]==0.7.4->pandas-profiling) (8.4.0)\n",
            "Requirement already satisfied: contourpy>=1.0.1 in /usr/local/lib/python3.9/dist-packages (from matplotlib>=3.2.0->pandas-profiling) (1.0.7)\n",
            "Requirement already satisfied: importlib-resources>=3.2.0 in /usr/local/lib/python3.9/dist-packages (from matplotlib>=3.2.0->pandas-profiling) (5.12.0)\n",
            "Requirement already satisfied: fonttools>=4.22.0 in /usr/local/lib/python3.9/dist-packages (from matplotlib>=3.2.0->pandas-profiling) (4.39.2)\n",
            "Requirement already satisfied: kiwisolver>=1.0.1 in /usr/local/lib/python3.9/dist-packages (from matplotlib>=3.2.0->pandas-profiling) (1.4.4)\n",
            "Requirement already satisfied: cycler>=0.10 in /usr/local/lib/python3.9/dist-packages (from matplotlib>=3.2.0->pandas-profiling) (0.11.0)\n",
            "Requirement already satisfied: python-dateutil>=2.7 in /usr/local/lib/python3.9/dist-packages (from matplotlib>=3.2.0->pandas-profiling) (2.8.2)\n",
            "Requirement already satisfied: packaging>=20.0 in /usr/local/lib/python3.9/dist-packages (from matplotlib>=3.2.0->pandas-profiling) (23.0)\n",
            "Requirement already satisfied: pyparsing>=2.3.1 in /usr/local/lib/python3.9/dist-packages (from matplotlib>=3.2.0->pandas-profiling) (3.0.9)\n",
            "Requirement already satisfied: pytz>=2020.1 in /usr/local/lib/python3.9/dist-packages (from pandas!=1.0.0,!=1.0.1,!=1.0.2,!=1.1.0,>=0.25.3->pandas-profiling) (2022.7.1)\n",
            "Requirement already satisfied: typing-extensions>=4.2.0 in /usr/local/lib/python3.9/dist-packages (from pydantic>=1.8.1->pandas-profiling) (4.5.0)\n",
            "Requirement already satisfied: charset-normalizer~=2.0.0 in /usr/local/lib/python3.9/dist-packages (from requests>=2.24.0->pandas-profiling) (2.0.12)\n",
            "Requirement already satisfied: certifi>=2017.4.17 in /usr/local/lib/python3.9/dist-packages (from requests>=2.24.0->pandas-profiling) (2022.12.7)\n",
            "Requirement already satisfied: idna<4,>=2.5 in /usr/local/lib/python3.9/dist-packages (from requests>=2.24.0->pandas-profiling) (3.4)\n",
            "Requirement already satisfied: urllib3<1.27,>=1.21.1 in /usr/local/lib/python3.9/dist-packages (from requests>=2.24.0->pandas-profiling) (1.26.15)\n",
            "Requirement already satisfied: zipp>=3.1.0 in /usr/local/lib/python3.9/dist-packages (from importlib-resources>=3.2.0->matplotlib>=3.2.0->pandas-profiling) (3.15.0)\n",
            "Requirement already satisfied: six>=1.5 in /usr/local/lib/python3.9/dist-packages (from python-dateutil>=2.7->matplotlib>=3.2.0->pandas-profiling) (1.16.0)\n",
            "Requirement already satisfied: PyWavelets in /usr/local/lib/python3.9/dist-packages (from imagehash->visions[type_image_path]==0.7.4->pandas-profiling) (1.4.1)\n"
          ]
        }
      ]
    },
    {
      "cell_type": "code",
      "source": [
        "import pandas_profiling\n",
        "profile = data3.profile_report()"
      ],
      "metadata": {
        "id": "vqKSYg9NTSTn"
      },
      "execution_count": 43,
      "outputs": []
    },
    {
      "cell_type": "code",
      "source": [
        "profile.to_file(output_file=\"output.html\")"
      ],
      "metadata": {
        "colab": {
          "base_uri": "https://localhost:8080/",
          "height": 145,
          "referenced_widgets": [
            "c4271006b5bd47ee8ccf8b0366af65f4",
            "cbb54e0b6fcc4c4aa8b6885fabba494e",
            "05107a6421844485bc01ed9d558f23d7",
            "04269085accc44999364e07af9e941eb",
            "1b89f6f7a26c4625a602fb619b6dfc07",
            "2889d3534aa64293a4adc616d7693cd0",
            "87bb0d08c9ac48e6b938590ebe4b9807",
            "bce6ee6e46ef4c1591eb8462ceb68e84",
            "44dc13b982a94bf3a65e7bed8c585fb5",
            "096b352847b2417a94d6066589a7c32e",
            "258e9a1cff97434b84f4fd0443fcd54b",
            "7a49c3f466004ef39f220be519f18cdb",
            "bbfdcd3da7c3406390ea0ba1de1e0474",
            "af1ed5b0d6744e349ddde99165547f8e",
            "0c0e2b628b81413c90cb9d5b53cc3904",
            "0a2ca2fafc9b4624995fdb1745848b35",
            "41ad96b0989746d5a971365325237696",
            "1666bf5a8f1c4c1a97668973fd66beed",
            "e3d08f87d0db4694aa61971fddcfa3b0",
            "57c71034b76744d28b481fb2fd954c2b",
            "388310e5cdaa47adbc8ec83e83632282",
            "7a9a0358599b4d329ba8a90ca6234d1b",
            "1c8674e83956477fadbe331b66f2f515",
            "e7c36453ba8241f991626bbea9d96d03",
            "2174d968fd0a4540b20881213a66ba6c",
            "1077517a82c74333a77dfe2b7abf51ec",
            "34294c782f0c4d7fbb83ba7f00e73ad7",
            "e1234a42c8554b66a2d327a922598cd2",
            "b80d5f5c6588453ea7981715bce424b4",
            "98d3d13c81954aef94d59531856168a1",
            "bf67d2091e014809bc30c394a6d14ef0",
            "019560a0bfc54ccca6c2255d35e9142c",
            "35a6fbeb5fb945aa953a494b8804bf55",
            "f241463340a44f51b315599a858f34b0",
            "279b6f7b35ab47c1821924d7f08335d8",
            "695f46929b8b45648efe80495ae0c75f",
            "81212fa004764e27a6311292049ddead",
            "2ab94942de994b5eae44281f08a8e2f6",
            "072708ac4b8f43edabd1b9a9582b23c3",
            "5c8024e87c204093bf025dd2b9e5c913",
            "5feed9c1e78249718b0174e65d9f761b",
            "9eb3840e0db54ac3a49b74f77211ea4d",
            "d2186bc602ba4adb806069d9799484d0",
            "d15ddf45e9da44dfae7e03b2bde24d1c"
          ]
        },
        "id": "FK6SMUV5TW9J",
        "outputId": "981266ce-f666-4d75-9132-2d96d3c225d1"
      },
      "execution_count": 44,
      "outputs": [
        {
          "output_type": "display_data",
          "data": {
            "text/plain": [
              "Summarize dataset:   0%|          | 0/5 [00:00<?, ?it/s]"
            ],
            "application/vnd.jupyter.widget-view+json": {
              "version_major": 2,
              "version_minor": 0,
              "model_id": "c4271006b5bd47ee8ccf8b0366af65f4"
            }
          },
          "metadata": {}
        },
        {
          "output_type": "display_data",
          "data": {
            "text/plain": [
              "Generate report structure:   0%|          | 0/1 [00:00<?, ?it/s]"
            ],
            "application/vnd.jupyter.widget-view+json": {
              "version_major": 2,
              "version_minor": 0,
              "model_id": "7a49c3f466004ef39f220be519f18cdb"
            }
          },
          "metadata": {}
        },
        {
          "output_type": "display_data",
          "data": {
            "text/plain": [
              "Render HTML:   0%|          | 0/1 [00:00<?, ?it/s]"
            ],
            "application/vnd.jupyter.widget-view+json": {
              "version_major": 2,
              "version_minor": 0,
              "model_id": "1c8674e83956477fadbe331b66f2f515"
            }
          },
          "metadata": {}
        },
        {
          "output_type": "display_data",
          "data": {
            "text/plain": [
              "Export report to file:   0%|          | 0/1 [00:00<?, ?it/s]"
            ],
            "application/vnd.jupyter.widget-view+json": {
              "version_major": 2,
              "version_minor": 0,
              "model_id": "f241463340a44f51b315599a858f34b0"
            }
          },
          "metadata": {}
        }
      ]
    }
  ]
}